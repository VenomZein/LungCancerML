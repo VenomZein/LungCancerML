{
  "metadata": {
    "kernelspec": {
      "language": "python",
      "display_name": "Python 3",
      "name": "python3"
    },
    "language_info": {
      "pygments_lexer": "ipython3",
      "nbconvert_exporter": "python",
      "version": "3.6.4",
      "file_extension": ".py",
      "codemirror_mode": {
        "name": "ipython",
        "version": 3
      },
      "name": "python",
      "mimetype": "text/x-python"
    },
    "kaggle": {
      "accelerator": "none",
      "dataSources": [
        {
          "sourceId": 3947767,
          "sourceType": "datasetVersion",
          "datasetId": 2206522
        }
      ],
      "isInternetEnabled": true,
      "language": "python",
      "sourceType": "notebook",
      "isGpuEnabled": false
    },
    "colab": {
      "name": "Lung Cancer Prediction",
      "provenance": []
    }
  },
  "nbformat_minor": 0,
  "nbformat": 4,
  "cells": [
    {
      "source": [
        "\n",
        "# IMPORTANT: RUN THIS CELL IN ORDER TO IMPORT YOUR KAGGLE DATA SOURCES\n",
        "# TO THE CORRECT LOCATION (/kaggle/input) IN YOUR NOTEBOOK,\n",
        "# THEN FEEL FREE TO DELETE THIS CELL.\n",
        "# NOTE: THIS NOTEBOOK ENVIRONMENT DIFFERS FROM KAGGLE'S PYTHON\n",
        "# ENVIRONMENT SO THERE MAY BE MISSING LIBRARIES USED BY YOUR\n",
        "# NOTEBOOK.\n",
        "\n",
        "import os\n",
        "import sys\n",
        "from tempfile import NamedTemporaryFile\n",
        "from urllib.request import urlopen\n",
        "from urllib.parse import unquote, urlparse\n",
        "from urllib.error import HTTPError\n",
        "from zipfile import ZipFile\n",
        "import tarfile\n",
        "import shutil\n",
        "\n",
        "CHUNK_SIZE = 40960\n",
        "DATA_SOURCE_MAPPING = 'lung-cancer:https%3A%2F%2Fstorage.googleapis.com%2Fkaggle-data-sets%2F2206522%2F3947767%2Fbundle%2Farchive.zip%3FX-Goog-Algorithm%3DGOOG4-RSA-SHA256%26X-Goog-Credential%3Dgcp-kaggle-com%2540kaggle-161607.iam.gserviceaccount.com%252F20240311%252Fauto%252Fstorage%252Fgoog4_request%26X-Goog-Date%3D20240311T122330Z%26X-Goog-Expires%3D259200%26X-Goog-SignedHeaders%3Dhost%26X-Goog-Signature%3D1330bf58b06abebec8292200e9cd21a3a3ea5db9f44a9ec58e77ebe71d8f2304ee7fcd0705f4007d2471f7fd3e14b48afb494d45f38460c15e5d0ec939fff2d3cdc30284b0ba0326fad7356f111c9ce85de89638781d21109655227b36a6b61b9fdeeb33b3866c71ce64e9d69f9ed356b3bf6cee5022dda91cf4325ab45fd28cf66c2f0db8a9759cb8ac77e330172d9c9af6afd32e496b20ede1b29c6dbd3d815f2e3c5206c4175832b0ae6878c29170ee33bea2ffa28ba9f5a0b93e60bb57bcc0929fb4c198c12956314bbf07ccfc1ff4bcb53b0c7d5b85bca588bcda1664341c0c75849716521d0b1b53b4943f97d51d3227eea5e52273c8ef4384be7bd42c'\n",
        "\n",
        "KAGGLE_INPUT_PATH='/kaggle/input'\n",
        "KAGGLE_WORKING_PATH='/kaggle/working'\n",
        "KAGGLE_SYMLINK='kaggle'\n",
        "\n",
        "!umount /kaggle/input/ 2> /dev/null\n",
        "shutil.rmtree('/kaggle/input', ignore_errors=True)\n",
        "os.makedirs(KAGGLE_INPUT_PATH, 0o777, exist_ok=True)\n",
        "os.makedirs(KAGGLE_WORKING_PATH, 0o777, exist_ok=True)\n",
        "\n",
        "try:\n",
        "  os.symlink(KAGGLE_INPUT_PATH, os.path.join(\"..\", 'input'), target_is_directory=True)\n",
        "except FileExistsError:\n",
        "  pass\n",
        "try:\n",
        "  os.symlink(KAGGLE_WORKING_PATH, os.path.join(\"..\", 'working'), target_is_directory=True)\n",
        "except FileExistsError:\n",
        "  pass\n",
        "\n",
        "for data_source_mapping in DATA_SOURCE_MAPPING.split(','):\n",
        "    directory, download_url_encoded = data_source_mapping.split(':')\n",
        "    download_url = unquote(download_url_encoded)\n",
        "    filename = urlparse(download_url).path\n",
        "    destination_path = os.path.join(KAGGLE_INPUT_PATH, directory)\n",
        "    try:\n",
        "        with urlopen(download_url) as fileres, NamedTemporaryFile() as tfile:\n",
        "            total_length = fileres.headers['content-length']\n",
        "            print(f'Downloading {directory}, {total_length} bytes compressed')\n",
        "            dl = 0\n",
        "            data = fileres.read(CHUNK_SIZE)\n",
        "            while len(data) > 0:\n",
        "                dl += len(data)\n",
        "                tfile.write(data)\n",
        "                done = int(50 * dl / int(total_length))\n",
        "                sys.stdout.write(f\"\\r[{'=' * done}{' ' * (50-done)}] {dl} bytes downloaded\")\n",
        "                sys.stdout.flush()\n",
        "                data = fileres.read(CHUNK_SIZE)\n",
        "            if filename.endswith('.zip'):\n",
        "              with ZipFile(tfile) as zfile:\n",
        "                zfile.extractall(destination_path)\n",
        "            else:\n",
        "              with tarfile.open(tfile.name) as tarfile:\n",
        "                tarfile.extractall(destination_path)\n",
        "            print(f'\\nDownloaded and uncompressed: {directory}')\n",
        "    except HTTPError as e:\n",
        "        print(f'Failed to load (likely expired) {download_url} to path {destination_path}')\n",
        "        continue\n",
        "    except OSError as e:\n",
        "        print(f'Failed to load {download_url} to path {destination_path}')\n",
        "        continue\n",
        "\n",
        "print('Data source import complete.')\n"
      ],
      "metadata": {
        "id": "qUhrKm14d9rg"
      },
      "cell_type": "code",
      "outputs": [],
      "execution_count": null
    },
    {
      "cell_type": "markdown",
      "source": [
        "# **Lung Cancer Prediction Using 10 models**"
      ],
      "metadata": {
        "id": "NPhMR8Eid9rk"
      }
    },
    {
      "cell_type": "markdown",
      "source": [
        "##### Lung cancer prediction using 10 machine learning classification models using Scikit-learn library in Python is a code implementation that aims to develop a predictive model for detecting lung cancer in patients. The code uses 10 different machine learning algorithms, including logistic regression, decision tree, k-nearest neighbor, Gaussian naive Bayes, multinomial naive Bayes, support vector classifier, random forest, XGBoost, multi-layer perceptron, and gradient boosting classifier, to predict the likelihood of lung cancer based on a range of variables. The dataset used in the code includes various columns such as gender, age, smoking, yellow fingers, anxiety, peer pressure, chronic disease, fatigue, allergy, wheezing, alcohol consuming, coughing, shortness of breath, swallowing difficulty, chest pain, and lung cancer. By analyzing these variables and using machine learning algorithms to identify patterns and correlations, the predictive models can provide accurate assessments of a patient's risk of developing lung cancer.####"
      ],
      "metadata": {
        "id": "_H89SOESd9rm"
      }
    },
    {
      "cell_type": "code",
      "source": [
        "#Importing Libraries\n",
        "import pandas as pd\n",
        "import numpy as np\n",
        "import matplotlib.pyplot as plt\n",
        "import seaborn as sns\n",
        "\n",
        "#For ignoring warning\n",
        "import warnings\n",
        "warnings.filterwarnings(\"ignore\")"
      ],
      "metadata": {
        "execution": {
          "iopub.status.busy": "2023-03-23T10:38:46.790012Z",
          "iopub.execute_input": "2023-03-23T10:38:46.790492Z",
          "iopub.status.idle": "2023-03-23T10:38:47.413506Z",
          "shell.execute_reply.started": "2023-03-23T10:38:46.790449Z",
          "shell.execute_reply": "2023-03-23T10:38:47.412332Z"
        },
        "trusted": true,
        "id": "fTrtX6zrd9rn"
      },
      "execution_count": null,
      "outputs": []
    },
    {
      "cell_type": "code",
      "source": [
        "df=pd.read_csv('../input/lung-cancer/survey lung cancer.csv')\n",
        "df"
      ],
      "metadata": {
        "execution": {
          "iopub.status.busy": "2023-03-23T10:38:47.415623Z",
          "iopub.execute_input": "2023-03-23T10:38:47.416349Z",
          "iopub.status.idle": "2023-03-23T10:38:47.45482Z",
          "shell.execute_reply.started": "2023-03-23T10:38:47.416302Z",
          "shell.execute_reply": "2023-03-23T10:38:47.45311Z"
        },
        "trusted": true,
        "id": "S3MZx3tEd9rp"
      },
      "execution_count": null,
      "outputs": []
    },
    {
      "cell_type": "markdown",
      "source": [
        "**Note: In this dataset, YES=2 & NO=1**"
      ],
      "metadata": {
        "id": "REu3yntUd9rp"
      }
    },
    {
      "cell_type": "code",
      "source": [
        "df.shape"
      ],
      "metadata": {
        "execution": {
          "iopub.status.busy": "2023-03-23T10:38:47.457036Z",
          "iopub.execute_input": "2023-03-23T10:38:47.45763Z",
          "iopub.status.idle": "2023-03-23T10:38:47.468201Z",
          "shell.execute_reply.started": "2023-03-23T10:38:47.457549Z",
          "shell.execute_reply": "2023-03-23T10:38:47.466278Z"
        },
        "trusted": true,
        "id": "cZZ2fs-vd9rq"
      },
      "execution_count": null,
      "outputs": []
    },
    {
      "cell_type": "code",
      "source": [
        "#Checking for Duplicates\n",
        "df.duplicated().sum()"
      ],
      "metadata": {
        "execution": {
          "iopub.status.busy": "2023-03-23T10:38:47.471424Z",
          "iopub.execute_input": "2023-03-23T10:38:47.472124Z",
          "iopub.status.idle": "2023-03-23T10:38:47.487192Z",
          "shell.execute_reply.started": "2023-03-23T10:38:47.472073Z",
          "shell.execute_reply": "2023-03-23T10:38:47.485464Z"
        },
        "trusted": true,
        "id": "-nV3-aBYd9rq"
      },
      "execution_count": null,
      "outputs": []
    },
    {
      "cell_type": "code",
      "source": [
        "#Removing Duplicates\n",
        "df=df.drop_duplicates()"
      ],
      "metadata": {
        "execution": {
          "iopub.status.busy": "2023-03-23T10:38:47.488835Z",
          "iopub.execute_input": "2023-03-23T10:38:47.489243Z",
          "iopub.status.idle": "2023-03-23T10:38:47.501122Z",
          "shell.execute_reply.started": "2023-03-23T10:38:47.489204Z",
          "shell.execute_reply": "2023-03-23T10:38:47.499652Z"
        },
        "trusted": true,
        "id": "3n8sMoXNd9rr"
      },
      "execution_count": null,
      "outputs": []
    },
    {
      "cell_type": "code",
      "source": [
        "#Checking for null values\n",
        "df.isnull().sum()"
      ],
      "metadata": {
        "execution": {
          "iopub.status.busy": "2023-03-23T10:38:47.502848Z",
          "iopub.execute_input": "2023-03-23T10:38:47.503284Z",
          "iopub.status.idle": "2023-03-23T10:38:47.51989Z",
          "shell.execute_reply.started": "2023-03-23T10:38:47.503241Z",
          "shell.execute_reply": "2023-03-23T10:38:47.518307Z"
        },
        "trusted": true,
        "id": "YgWKbay6d9rr"
      },
      "execution_count": null,
      "outputs": []
    },
    {
      "cell_type": "code",
      "source": [
        "df.info()"
      ],
      "metadata": {
        "execution": {
          "iopub.status.busy": "2023-03-23T10:38:47.522567Z",
          "iopub.execute_input": "2023-03-23T10:38:47.523163Z",
          "iopub.status.idle": "2023-03-23T10:38:47.541929Z",
          "shell.execute_reply.started": "2023-03-23T10:38:47.523083Z",
          "shell.execute_reply": "2023-03-23T10:38:47.540678Z"
        },
        "trusted": true,
        "id": "Pyeiv2r5d9rs"
      },
      "execution_count": null,
      "outputs": []
    },
    {
      "cell_type": "code",
      "source": [
        "df.describe()"
      ],
      "metadata": {
        "execution": {
          "iopub.status.busy": "2023-03-23T10:38:47.543675Z",
          "iopub.execute_input": "2023-03-23T10:38:47.544392Z",
          "iopub.status.idle": "2023-03-23T10:38:47.602982Z",
          "shell.execute_reply.started": "2023-03-23T10:38:47.544344Z",
          "shell.execute_reply": "2023-03-23T10:38:47.601531Z"
        },
        "trusted": true,
        "id": "7yKssZiNd9rs"
      },
      "execution_count": null,
      "outputs": []
    },
    {
      "cell_type": "markdown",
      "source": [
        "**In this dataset, GENDER & LUNG_CANCER attributes are in object data type. So, let's convert them to numerical values using LabelEncoder from sklearn.\n",
        "LabelEncoder is a utility class to help normalize labels such that they contain only values between 0 and n_classes-1.\n",
        "It can also be used to transform non-numerical labels (as long as they are hashable and comparable) to numerical labels. Also let's make every other attributes as YES=1 & NO=0.**"
      ],
      "metadata": {
        "id": "oRrxlEXkd9rs"
      }
    },
    {
      "cell_type": "code",
      "source": [
        "from sklearn import preprocessing\n",
        "le=preprocessing.LabelEncoder()\n",
        "df['GENDER']=le.fit_transform(df['GENDER'])\n",
        "df['LUNG_CANCER']=le.fit_transform(df['LUNG_CANCER'])\n",
        "df['SMOKING']=le.fit_transform(df['SMOKING'])\n",
        "df['YELLOW_FINGERS']=le.fit_transform(df['YELLOW_FINGERS'])\n",
        "df['ANXIETY']=le.fit_transform(df['ANXIETY'])\n",
        "df['PEER_PRESSURE']=le.fit_transform(df['PEER_PRESSURE'])\n",
        "df['CHRONIC DISEASE']=le.fit_transform(df['CHRONIC DISEASE'])\n",
        "df['FATIGUE ']=le.fit_transform(df['FATIGUE '])\n",
        "df['ALLERGY ']=le.fit_transform(df['ALLERGY '])\n",
        "df['WHEEZING']=le.fit_transform(df['WHEEZING'])\n",
        "df['ALCOHOL CONSUMING']=le.fit_transform(df['ALCOHOL CONSUMING'])\n",
        "df['COUGHING']=le.fit_transform(df['COUGHING'])\n",
        "df['SHORTNESS OF BREATH']=le.fit_transform(df['SHORTNESS OF BREATH'])\n",
        "df['SWALLOWING DIFFICULTY']=le.fit_transform(df['SWALLOWING DIFFICULTY'])\n",
        "df['CHEST PAIN']=le.fit_transform(df['CHEST PAIN'])\n",
        "df['LUNG_CANCER']=le.fit_transform(df['LUNG_CANCER'])"
      ],
      "metadata": {
        "execution": {
          "iopub.status.busy": "2023-03-23T10:38:47.604802Z",
          "iopub.execute_input": "2023-03-23T10:38:47.605213Z",
          "iopub.status.idle": "2023-03-23T10:38:47.675051Z",
          "shell.execute_reply.started": "2023-03-23T10:38:47.605171Z",
          "shell.execute_reply": "2023-03-23T10:38:47.67344Z"
        },
        "trusted": true,
        "id": "fqO9PHged9rt"
      },
      "execution_count": null,
      "outputs": []
    },
    {
      "cell_type": "code",
      "source": [
        "#Let's check what's happened now\n",
        "df"
      ],
      "metadata": {
        "execution": {
          "iopub.status.busy": "2023-03-23T10:38:47.679574Z",
          "iopub.execute_input": "2023-03-23T10:38:47.680059Z",
          "iopub.status.idle": "2023-03-23T10:38:47.705148Z",
          "shell.execute_reply.started": "2023-03-23T10:38:47.680012Z",
          "shell.execute_reply": "2023-03-23T10:38:47.703643Z"
        },
        "trusted": true,
        "id": "LdSFuXbMd9rt"
      },
      "execution_count": null,
      "outputs": []
    },
    {
      "cell_type": "markdown",
      "source": [
        "**Note: Male=1 & Female=0. Also for other variables, YES=1 & NO=0**"
      ],
      "metadata": {
        "id": "zOxK3JTTd9ru"
      }
    },
    {
      "cell_type": "code",
      "source": [
        "df.info()"
      ],
      "metadata": {
        "execution": {
          "iopub.status.busy": "2023-03-23T10:38:47.706767Z",
          "iopub.execute_input": "2023-03-23T10:38:47.707154Z",
          "iopub.status.idle": "2023-03-23T10:38:47.72457Z",
          "shell.execute_reply.started": "2023-03-23T10:38:47.707116Z",
          "shell.execute_reply": "2023-03-23T10:38:47.723058Z"
        },
        "trusted": true,
        "id": "l_EDK4NRd9ru"
      },
      "execution_count": null,
      "outputs": []
    },
    {
      "cell_type": "code",
      "source": [
        "#Let's check the distributaion of Target variable.\n",
        "sns.countplot(x='LUNG_CANCER', data=df,)\n",
        "plt.title('Target Distribution');"
      ],
      "metadata": {
        "execution": {
          "iopub.status.busy": "2023-03-23T10:38:47.726705Z",
          "iopub.execute_input": "2023-03-23T10:38:47.727437Z",
          "iopub.status.idle": "2023-03-23T10:38:47.965922Z",
          "shell.execute_reply.started": "2023-03-23T10:38:47.727391Z",
          "shell.execute_reply": "2023-03-23T10:38:47.964418Z"
        },
        "trusted": true,
        "id": "Ehhxm2vCd9ru"
      },
      "execution_count": null,
      "outputs": []
    },
    {
      "cell_type": "markdown",
      "source": [
        "##### ***That is, Target Distribution is imbalanced.***"
      ],
      "metadata": {
        "id": "rYcLkJNId9ru"
      }
    },
    {
      "cell_type": "code",
      "source": [
        "df['LUNG_CANCER'].value_counts()"
      ],
      "metadata": {
        "execution": {
          "iopub.status.busy": "2023-03-23T10:38:47.967644Z",
          "iopub.execute_input": "2023-03-23T10:38:47.968114Z",
          "iopub.status.idle": "2023-03-23T10:38:47.978959Z",
          "shell.execute_reply.started": "2023-03-23T10:38:47.968068Z",
          "shell.execute_reply": "2023-03-23T10:38:47.977468Z"
        },
        "trusted": true,
        "id": "jlDX68VYd9rv"
      },
      "execution_count": null,
      "outputs": []
    },
    {
      "cell_type": "markdown",
      "source": [
        "***We will handle this imbalance before applyig algorithm.***"
      ],
      "metadata": {
        "id": "ZMm9Lttcd9rv"
      }
    },
    {
      "cell_type": "markdown",
      "source": [],
      "metadata": {
        "id": "KjqkDTx1d9rv"
      }
    },
    {
      "cell_type": "markdown",
      "source": [
        "**Now let's do some Data Visualizations for the better understanding of how the independent features are related to the target variable..**"
      ],
      "metadata": {
        "id": "cXCLj9Esd9rv"
      }
    },
    {
      "cell_type": "code",
      "source": [
        "# function for plotting\n",
        "def plot(col, df=df):\n",
        "    return df.groupby(col)['LUNG_CANCER'].value_counts(normalize=True).unstack().plot(kind='bar', figsize=(8,5))"
      ],
      "metadata": {
        "execution": {
          "iopub.status.busy": "2023-03-23T10:38:47.98084Z",
          "iopub.execute_input": "2023-03-23T10:38:47.981428Z",
          "iopub.status.idle": "2023-03-23T10:38:47.990365Z",
          "shell.execute_reply.started": "2023-03-23T10:38:47.981376Z",
          "shell.execute_reply": "2023-03-23T10:38:47.989017Z"
        },
        "trusted": true,
        "id": "AgQ9q1RJd9rv"
      },
      "execution_count": null,
      "outputs": []
    },
    {
      "cell_type": "code",
      "source": [
        "plot('GENDER')"
      ],
      "metadata": {
        "execution": {
          "iopub.status.busy": "2023-03-23T10:38:47.99207Z",
          "iopub.execute_input": "2023-03-23T10:38:47.992455Z",
          "iopub.status.idle": "2023-03-23T10:38:48.2594Z",
          "shell.execute_reply.started": "2023-03-23T10:38:47.992418Z",
          "shell.execute_reply": "2023-03-23T10:38:48.258059Z"
        },
        "trusted": true,
        "id": "gbwRwE6xd9rv"
      },
      "execution_count": null,
      "outputs": []
    },
    {
      "cell_type": "code",
      "source": [
        "plot('AGE')"
      ],
      "metadata": {
        "execution": {
          "iopub.status.busy": "2023-03-23T10:38:48.261669Z",
          "iopub.execute_input": "2023-03-23T10:38:48.262722Z",
          "iopub.status.idle": "2023-03-23T10:38:48.89557Z",
          "shell.execute_reply.started": "2023-03-23T10:38:48.262659Z",
          "shell.execute_reply": "2023-03-23T10:38:48.894028Z"
        },
        "trusted": true,
        "id": "IOy9Gws4d9rw"
      },
      "execution_count": null,
      "outputs": []
    },
    {
      "cell_type": "code",
      "source": [
        "plot('SMOKING')"
      ],
      "metadata": {
        "execution": {
          "iopub.status.busy": "2023-03-23T10:38:48.89772Z",
          "iopub.execute_input": "2023-03-23T10:38:48.898178Z",
          "iopub.status.idle": "2023-03-23T10:38:49.152943Z",
          "shell.execute_reply.started": "2023-03-23T10:38:48.898126Z",
          "shell.execute_reply": "2023-03-23T10:38:49.151111Z"
        },
        "trusted": true,
        "id": "1MZJzaZXd9rw"
      },
      "execution_count": null,
      "outputs": []
    },
    {
      "cell_type": "code",
      "source": [
        "plot('YELLOW_FINGERS')"
      ],
      "metadata": {
        "execution": {
          "iopub.status.busy": "2023-03-23T10:38:49.155217Z",
          "iopub.execute_input": "2023-03-23T10:38:49.155725Z",
          "iopub.status.idle": "2023-03-23T10:38:49.40684Z",
          "shell.execute_reply.started": "2023-03-23T10:38:49.155677Z",
          "shell.execute_reply": "2023-03-23T10:38:49.405338Z"
        },
        "trusted": true,
        "id": "2xeGaGfid9rw"
      },
      "execution_count": null,
      "outputs": []
    },
    {
      "cell_type": "code",
      "source": [
        "plot('ANXIETY')"
      ],
      "metadata": {
        "execution": {
          "iopub.status.busy": "2023-03-23T10:38:49.409208Z",
          "iopub.execute_input": "2023-03-23T10:38:49.410106Z",
          "iopub.status.idle": "2023-03-23T10:38:49.666497Z",
          "shell.execute_reply.started": "2023-03-23T10:38:49.41004Z",
          "shell.execute_reply": "2023-03-23T10:38:49.664751Z"
        },
        "trusted": true,
        "id": "2UyajTMKd9rw"
      },
      "execution_count": null,
      "outputs": []
    },
    {
      "cell_type": "code",
      "source": [
        "plot('PEER_PRESSURE')"
      ],
      "metadata": {
        "execution": {
          "iopub.status.busy": "2023-03-23T10:38:49.668185Z",
          "iopub.execute_input": "2023-03-23T10:38:49.668664Z",
          "iopub.status.idle": "2023-03-23T10:38:49.925076Z",
          "shell.execute_reply.started": "2023-03-23T10:38:49.668614Z",
          "shell.execute_reply": "2023-03-23T10:38:49.923409Z"
        },
        "trusted": true,
        "id": "Lir6VqCxd9rw"
      },
      "execution_count": null,
      "outputs": []
    },
    {
      "cell_type": "code",
      "source": [
        "plot('CHRONIC DISEASE')"
      ],
      "metadata": {
        "execution": {
          "iopub.status.busy": "2023-03-23T10:38:49.927152Z",
          "iopub.execute_input": "2023-03-23T10:38:49.928472Z",
          "iopub.status.idle": "2023-03-23T10:38:50.186246Z",
          "shell.execute_reply.started": "2023-03-23T10:38:49.928385Z",
          "shell.execute_reply": "2023-03-23T10:38:50.184995Z"
        },
        "trusted": true,
        "id": "r1V_udtJd9rw"
      },
      "execution_count": null,
      "outputs": []
    },
    {
      "cell_type": "code",
      "source": [
        "plot('FATIGUE ')"
      ],
      "metadata": {
        "execution": {
          "iopub.status.busy": "2023-03-23T10:38:50.187712Z",
          "iopub.execute_input": "2023-03-23T10:38:50.188857Z",
          "iopub.status.idle": "2023-03-23T10:38:50.453498Z",
          "shell.execute_reply.started": "2023-03-23T10:38:50.188805Z",
          "shell.execute_reply": "2023-03-23T10:38:50.451766Z"
        },
        "trusted": true,
        "id": "UKAO6kxjd9rw"
      },
      "execution_count": null,
      "outputs": []
    },
    {
      "cell_type": "code",
      "source": [
        "plot('ALLERGY ')"
      ],
      "metadata": {
        "execution": {
          "iopub.status.busy": "2023-03-23T10:38:50.45508Z",
          "iopub.execute_input": "2023-03-23T10:38:50.456373Z",
          "iopub.status.idle": "2023-03-23T10:38:50.68051Z",
          "shell.execute_reply.started": "2023-03-23T10:38:50.456317Z",
          "shell.execute_reply": "2023-03-23T10:38:50.677959Z"
        },
        "trusted": true,
        "id": "_gFHsaAXd9rx"
      },
      "execution_count": null,
      "outputs": []
    },
    {
      "cell_type": "code",
      "source": [
        "plot('WHEEZING')"
      ],
      "metadata": {
        "execution": {
          "iopub.status.busy": "2023-03-23T10:38:50.682516Z",
          "iopub.execute_input": "2023-03-23T10:38:50.683093Z",
          "iopub.status.idle": "2023-03-23T10:38:50.92669Z",
          "shell.execute_reply.started": "2023-03-23T10:38:50.683041Z",
          "shell.execute_reply": "2023-03-23T10:38:50.925007Z"
        },
        "trusted": true,
        "id": "XQnL0nujd9rx"
      },
      "execution_count": null,
      "outputs": []
    },
    {
      "cell_type": "code",
      "source": [
        "plot('ALCOHOL CONSUMING')"
      ],
      "metadata": {
        "execution": {
          "iopub.status.busy": "2023-03-23T10:38:50.928288Z",
          "iopub.execute_input": "2023-03-23T10:38:50.928828Z",
          "iopub.status.idle": "2023-03-23T10:38:51.383822Z",
          "shell.execute_reply.started": "2023-03-23T10:38:50.928777Z",
          "shell.execute_reply": "2023-03-23T10:38:51.382144Z"
        },
        "trusted": true,
        "id": "ArP-p8W1d9rx"
      },
      "execution_count": null,
      "outputs": []
    },
    {
      "cell_type": "code",
      "source": [
        "plot('COUGHING')"
      ],
      "metadata": {
        "execution": {
          "iopub.status.busy": "2023-03-23T10:38:51.385998Z",
          "iopub.execute_input": "2023-03-23T10:38:51.386884Z",
          "iopub.status.idle": "2023-03-23T10:38:51.63847Z",
          "shell.execute_reply.started": "2023-03-23T10:38:51.386825Z",
          "shell.execute_reply": "2023-03-23T10:38:51.636894Z"
        },
        "trusted": true,
        "id": "g7zYQNhxd9rx"
      },
      "execution_count": null,
      "outputs": []
    },
    {
      "cell_type": "code",
      "source": [
        "plot('SHORTNESS OF BREATH')"
      ],
      "metadata": {
        "execution": {
          "iopub.status.busy": "2023-03-23T10:38:51.640749Z",
          "iopub.execute_input": "2023-03-23T10:38:51.641187Z",
          "iopub.status.idle": "2023-03-23T10:38:51.902671Z",
          "shell.execute_reply.started": "2023-03-23T10:38:51.641141Z",
          "shell.execute_reply": "2023-03-23T10:38:51.901135Z"
        },
        "trusted": true,
        "id": "oGH4WcaFd9rx"
      },
      "execution_count": null,
      "outputs": []
    },
    {
      "cell_type": "code",
      "source": [
        "plot('SWALLOWING DIFFICULTY')"
      ],
      "metadata": {
        "execution": {
          "iopub.status.busy": "2023-03-23T10:38:51.911397Z",
          "iopub.execute_input": "2023-03-23T10:38:51.912853Z",
          "iopub.status.idle": "2023-03-23T10:38:52.136214Z",
          "shell.execute_reply.started": "2023-03-23T10:38:51.912768Z",
          "shell.execute_reply": "2023-03-23T10:38:52.134784Z"
        },
        "trusted": true,
        "id": "aizQSJ-3d9rx"
      },
      "execution_count": null,
      "outputs": []
    },
    {
      "cell_type": "code",
      "source": [
        "plot('CHEST PAIN')"
      ],
      "metadata": {
        "execution": {
          "iopub.status.busy": "2023-03-23T10:38:52.138106Z",
          "iopub.execute_input": "2023-03-23T10:38:52.138678Z",
          "iopub.status.idle": "2023-03-23T10:38:52.393786Z",
          "shell.execute_reply.started": "2023-03-23T10:38:52.13861Z",
          "shell.execute_reply": "2023-03-23T10:38:52.392657Z"
        },
        "trusted": true,
        "id": "7JtH_JYld9rx"
      },
      "execution_count": null,
      "outputs": []
    },
    {
      "cell_type": "markdown",
      "source": [
        "**From the visualizations, it is clear that in the given dataset, the features GENDER, AGE, SMOKING and SHORTNESS OF BREATH don't have that much relationship with LUNG CANCER. So let's drop those features to make this dataset more clean.**"
      ],
      "metadata": {
        "id": "qpEiGwr1d9r2"
      }
    },
    {
      "cell_type": "code",
      "source": [
        "df_new=df.drop(columns=['GENDER','AGE', 'SMOKING', 'SHORTNESS OF BREATH'])\n",
        "df_new"
      ],
      "metadata": {
        "execution": {
          "iopub.status.busy": "2023-03-23T10:38:52.395423Z",
          "iopub.execute_input": "2023-03-23T10:38:52.396256Z",
          "iopub.status.idle": "2023-03-23T10:38:52.417818Z",
          "shell.execute_reply.started": "2023-03-23T10:38:52.396206Z",
          "shell.execute_reply": "2023-03-23T10:38:52.416138Z"
        },
        "trusted": true,
        "id": "lYIXa2URd9r3"
      },
      "execution_count": null,
      "outputs": []
    },
    {
      "cell_type": "markdown",
      "source": [
        "**CORRELATION**"
      ],
      "metadata": {
        "id": "VskPmZ8fd9r3"
      }
    },
    {
      "cell_type": "code",
      "source": [
        "#Finding Correlation\n",
        "cn=df_new.corr()\n",
        "cn"
      ],
      "metadata": {
        "execution": {
          "iopub.status.busy": "2023-03-23T10:38:52.419881Z",
          "iopub.execute_input": "2023-03-23T10:38:52.420286Z",
          "iopub.status.idle": "2023-03-23T10:38:52.454216Z",
          "shell.execute_reply.started": "2023-03-23T10:38:52.420246Z",
          "shell.execute_reply": "2023-03-23T10:38:52.452814Z"
        },
        "trusted": true,
        "id": "M4C2D-oFd9r3"
      },
      "execution_count": null,
      "outputs": []
    },
    {
      "cell_type": "code",
      "source": [
        "#Correlation\n",
        "cmap=sns.diverging_palette(260,-10,s=50, l=75, n=6,\n",
        "as_cmap=True)\n",
        "plt.subplots(figsize=(18,18))\n",
        "sns.heatmap(cn,cmap=cmap,annot=True, square=True)\n",
        "plt.show()"
      ],
      "metadata": {
        "execution": {
          "iopub.status.busy": "2023-03-23T10:38:52.456711Z",
          "iopub.execute_input": "2023-03-23T10:38:52.458004Z",
          "iopub.status.idle": "2023-03-23T10:38:53.595322Z",
          "shell.execute_reply.started": "2023-03-23T10:38:52.457927Z",
          "shell.execute_reply": "2023-03-23T10:38:53.593566Z"
        },
        "trusted": true,
        "id": "CG93j7M4d9r3"
      },
      "execution_count": null,
      "outputs": []
    },
    {
      "cell_type": "code",
      "source": [
        "kot = cn[cn>=.40]\n",
        "plt.figure(figsize=(12,8))\n",
        "sns.heatmap(kot, cmap=\"Blues\")"
      ],
      "metadata": {
        "execution": {
          "iopub.status.busy": "2023-03-23T10:38:53.597334Z",
          "iopub.execute_input": "2023-03-23T10:38:53.597775Z",
          "iopub.status.idle": "2023-03-23T10:38:54.137007Z",
          "shell.execute_reply.started": "2023-03-23T10:38:53.597732Z",
          "shell.execute_reply": "2023-03-23T10:38:54.135425Z"
        },
        "trusted": true,
        "id": "wMd53KRcd9r3"
      },
      "execution_count": null,
      "outputs": []
    },
    {
      "cell_type": "markdown",
      "source": [],
      "metadata": {
        "id": "dsyY1Mksd9r3"
      }
    },
    {
      "cell_type": "markdown",
      "source": [
        "# ***Feature Engineering***"
      ],
      "metadata": {
        "id": "orOBIxq6d9r4"
      }
    },
    {
      "cell_type": "markdown",
      "source": [
        "Feature Engineering is the process of creating new features using existing features."
      ],
      "metadata": {
        "id": "_PzAu7-7d9r4"
      }
    },
    {
      "cell_type": "markdown",
      "source": [
        "***The correlation matrix shows that ANXIETY and YELLOW_FINGERS are correlated more than 50%. So, lets create a new feature combining them.***"
      ],
      "metadata": {
        "id": "gvpDWBzyd9r4"
      }
    },
    {
      "cell_type": "code",
      "source": [
        "df_new['ANXYELFIN']=df_new['ANXIETY']*df_new['YELLOW_FINGERS']\n",
        "df_new"
      ],
      "metadata": {
        "execution": {
          "iopub.status.busy": "2023-03-23T10:38:54.138985Z",
          "iopub.execute_input": "2023-03-23T10:38:54.139393Z",
          "iopub.status.idle": "2023-03-23T10:38:54.161599Z",
          "shell.execute_reply.started": "2023-03-23T10:38:54.139352Z",
          "shell.execute_reply": "2023-03-23T10:38:54.160154Z"
        },
        "trusted": true,
        "id": "TrL3Hgpwd9r4"
      },
      "execution_count": null,
      "outputs": []
    },
    {
      "cell_type": "code",
      "source": [
        "#Splitting independent and dependent variables\n",
        "X = df_new.drop('LUNG_CANCER', axis = 1)\n",
        "y = df_new['LUNG_CANCER']"
      ],
      "metadata": {
        "execution": {
          "iopub.status.busy": "2023-03-23T10:38:54.163352Z",
          "iopub.execute_input": "2023-03-23T10:38:54.163963Z",
          "iopub.status.idle": "2023-03-23T10:38:54.175734Z",
          "shell.execute_reply.started": "2023-03-23T10:38:54.163918Z",
          "shell.execute_reply": "2023-03-23T10:38:54.174626Z"
        },
        "trusted": true,
        "id": "EwVMB-vXd9r4"
      },
      "execution_count": null,
      "outputs": []
    },
    {
      "cell_type": "markdown",
      "source": [
        "# ***Target Distribution Imbalance Handling***"
      ],
      "metadata": {
        "id": "4GQC6jDXd9r4"
      }
    },
    {
      "cell_type": "code",
      "source": [
        "from imblearn.over_sampling import ADASYN\n",
        "adasyn = ADASYN(random_state=42)\n",
        "X, y = adasyn.fit_resample(X, y)"
      ],
      "metadata": {
        "execution": {
          "iopub.status.busy": "2023-03-23T10:38:54.176991Z",
          "iopub.execute_input": "2023-03-23T10:38:54.17796Z",
          "iopub.status.idle": "2023-03-23T10:38:54.322622Z",
          "shell.execute_reply.started": "2023-03-23T10:38:54.177914Z",
          "shell.execute_reply": "2023-03-23T10:38:54.3211Z"
        },
        "trusted": true,
        "id": "Yz0xQ52Yd9r4"
      },
      "execution_count": null,
      "outputs": []
    },
    {
      "cell_type": "code",
      "source": [
        "len(X)"
      ],
      "metadata": {
        "execution": {
          "iopub.status.busy": "2023-03-23T10:38:54.324112Z",
          "iopub.execute_input": "2023-03-23T10:38:54.324551Z",
          "iopub.status.idle": "2023-03-23T10:38:54.334768Z",
          "shell.execute_reply.started": "2023-03-23T10:38:54.324508Z",
          "shell.execute_reply": "2023-03-23T10:38:54.333149Z"
        },
        "trusted": true,
        "id": "2LAuakbod9r5"
      },
      "execution_count": null,
      "outputs": []
    },
    {
      "cell_type": "markdown",
      "source": [
        "# **Logistic Regression**"
      ],
      "metadata": {
        "id": "ewRUOF1pd9r5"
      }
    },
    {
      "cell_type": "code",
      "source": [
        "#Splitting data for training and testing\n",
        "from sklearn.model_selection import train_test_split\n",
        "X_train, X_test, y_train, y_test= train_test_split(X, y, test_size= 0.25, random_state=0)"
      ],
      "metadata": {
        "execution": {
          "iopub.status.busy": "2023-03-23T10:38:54.336852Z",
          "iopub.execute_input": "2023-03-23T10:38:54.337463Z",
          "iopub.status.idle": "2023-03-23T10:38:54.349868Z",
          "shell.execute_reply.started": "2023-03-23T10:38:54.337399Z",
          "shell.execute_reply": "2023-03-23T10:38:54.347876Z"
        },
        "trusted": true,
        "id": "kZ2OAe31d9r6"
      },
      "execution_count": null,
      "outputs": []
    },
    {
      "cell_type": "code",
      "source": [
        "#Fitting training data to the model\n",
        "from sklearn.linear_model import LogisticRegression\n",
        "lr_model=LogisticRegression(random_state=0)\n",
        "lr_model.fit(X_train, y_train)"
      ],
      "metadata": {
        "execution": {
          "iopub.status.busy": "2023-03-23T10:38:54.353903Z",
          "iopub.execute_input": "2023-03-23T10:38:54.354427Z",
          "iopub.status.idle": "2023-03-23T10:38:54.376833Z",
          "shell.execute_reply.started": "2023-03-23T10:38:54.354376Z",
          "shell.execute_reply": "2023-03-23T10:38:54.374923Z"
        },
        "trusted": true,
        "id": "okK3t-Fpd9r6"
      },
      "execution_count": null,
      "outputs": []
    },
    {
      "cell_type": "code",
      "source": [
        "#Predicting result using testing data\n",
        "y_lr_pred= lr_model.predict(X_test)\n",
        "y_lr_pred"
      ],
      "metadata": {
        "execution": {
          "iopub.status.busy": "2023-03-23T10:38:54.381725Z",
          "iopub.execute_input": "2023-03-23T10:38:54.382225Z",
          "iopub.status.idle": "2023-03-23T10:38:54.39593Z",
          "shell.execute_reply.started": "2023-03-23T10:38:54.382177Z",
          "shell.execute_reply": "2023-03-23T10:38:54.394166Z"
        },
        "trusted": true,
        "id": "E5FlXHgod9r6"
      },
      "execution_count": null,
      "outputs": []
    },
    {
      "cell_type": "code",
      "source": [
        "#Model accuracy\n",
        "from sklearn.metrics import classification_report, accuracy_score, f1_score\n",
        "lr_cr=classification_report(y_test, y_lr_pred)\n",
        "print(lr_cr)"
      ],
      "metadata": {
        "execution": {
          "iopub.status.busy": "2023-03-23T10:38:54.398106Z",
          "iopub.execute_input": "2023-03-23T10:38:54.398743Z",
          "iopub.status.idle": "2023-03-23T10:38:54.415639Z",
          "shell.execute_reply.started": "2023-03-23T10:38:54.398629Z",
          "shell.execute_reply": "2023-03-23T10:38:54.41399Z"
        },
        "trusted": true,
        "id": "KTC46uLHd9r6"
      },
      "execution_count": null,
      "outputs": []
    },
    {
      "cell_type": "markdown",
      "source": [
        "**This model is almost 97% accurate.**"
      ],
      "metadata": {
        "id": "c6Un3WuAd9r7"
      }
    },
    {
      "cell_type": "markdown",
      "source": [
        "# **Decision Tree**"
      ],
      "metadata": {
        "id": "ptMZuSuRd9r7"
      }
    },
    {
      "cell_type": "code",
      "source": [
        "#Fitting training data to the model\n",
        "from sklearn.tree import DecisionTreeClassifier\n",
        "dt_model= DecisionTreeClassifier(criterion='entropy', random_state=0)\n",
        "dt_model.fit(X_train, y_train)"
      ],
      "metadata": {
        "execution": {
          "iopub.status.busy": "2023-03-23T10:38:54.421218Z",
          "iopub.execute_input": "2023-03-23T10:38:54.421754Z",
          "iopub.status.idle": "2023-03-23T10:38:54.437026Z",
          "shell.execute_reply.started": "2023-03-23T10:38:54.421699Z",
          "shell.execute_reply": "2023-03-23T10:38:54.435235Z"
        },
        "trusted": true,
        "id": "2iRzb0Thd9r7"
      },
      "execution_count": null,
      "outputs": []
    },
    {
      "cell_type": "code",
      "source": [
        "#Predicting result using testing data\n",
        "y_dt_pred= dt_model.predict(X_test)\n",
        "y_dt_pred"
      ],
      "metadata": {
        "execution": {
          "iopub.status.busy": "2023-03-23T10:38:54.43889Z",
          "iopub.execute_input": "2023-03-23T10:38:54.440057Z",
          "iopub.status.idle": "2023-03-23T10:38:54.453513Z",
          "shell.execute_reply.started": "2023-03-23T10:38:54.439979Z",
          "shell.execute_reply": "2023-03-23T10:38:54.451995Z"
        },
        "trusted": true,
        "id": "TyRr_s0Rd9r7"
      },
      "execution_count": null,
      "outputs": []
    },
    {
      "cell_type": "code",
      "source": [
        "#Model accuracy\n",
        "dt_cr=classification_report(y_test, y_dt_pred)\n",
        "print(dt_cr)"
      ],
      "metadata": {
        "execution": {
          "iopub.status.busy": "2023-03-23T10:38:54.455177Z",
          "iopub.execute_input": "2023-03-23T10:38:54.456013Z",
          "iopub.status.idle": "2023-03-23T10:38:54.470225Z",
          "shell.execute_reply.started": "2023-03-23T10:38:54.455937Z",
          "shell.execute_reply": "2023-03-23T10:38:54.468811Z"
        },
        "trusted": true,
        "id": "tUobmTY5d9r7"
      },
      "execution_count": null,
      "outputs": []
    },
    {
      "cell_type": "markdown",
      "source": [
        "**This model is 94% accurate.**"
      ],
      "metadata": {
        "id": "MF9s3ClCd9r8"
      }
    },
    {
      "cell_type": "markdown",
      "source": [
        "# **K Nearest Neighbor**"
      ],
      "metadata": {
        "id": "TnAjiZaed9r8"
      }
    },
    {
      "cell_type": "code",
      "source": [
        "#Fitting K-NN classifier to the training set\n",
        "from sklearn.neighbors import KNeighborsClassifier\n",
        "knn_model= KNeighborsClassifier(n_neighbors=5, metric='minkowski', p=2 )\n",
        "knn_model.fit(X_train, y_train)"
      ],
      "metadata": {
        "execution": {
          "iopub.status.busy": "2023-03-23T10:38:54.471851Z",
          "iopub.execute_input": "2023-03-23T10:38:54.472276Z",
          "iopub.status.idle": "2023-03-23T10:38:54.485832Z",
          "shell.execute_reply.started": "2023-03-23T10:38:54.472233Z",
          "shell.execute_reply": "2023-03-23T10:38:54.483815Z"
        },
        "trusted": true,
        "id": "A5nRrHXad9r8"
      },
      "execution_count": null,
      "outputs": []
    },
    {
      "cell_type": "code",
      "source": [
        "#Predicting result using testing data\n",
        "y_knn_pred= knn_model.predict(X_test)\n",
        "y_knn_pred"
      ],
      "metadata": {
        "execution": {
          "iopub.status.busy": "2023-03-23T10:38:54.488423Z",
          "iopub.execute_input": "2023-03-23T10:38:54.489834Z",
          "iopub.status.idle": "2023-03-23T10:38:54.507062Z",
          "shell.execute_reply.started": "2023-03-23T10:38:54.489756Z",
          "shell.execute_reply": "2023-03-23T10:38:54.50573Z"
        },
        "trusted": true,
        "id": "YG2N6Gb4d9r8"
      },
      "execution_count": null,
      "outputs": []
    },
    {
      "cell_type": "code",
      "source": [
        "#Model accuracy\n",
        "knn_cr=classification_report(y_test, y_knn_pred)\n",
        "print(knn_cr)"
      ],
      "metadata": {
        "execution": {
          "iopub.status.busy": "2023-03-23T10:38:54.508273Z",
          "iopub.execute_input": "2023-03-23T10:38:54.508738Z",
          "iopub.status.idle": "2023-03-23T10:38:54.523263Z",
          "shell.execute_reply.started": "2023-03-23T10:38:54.508693Z",
          "shell.execute_reply": "2023-03-23T10:38:54.521889Z"
        },
        "trusted": true,
        "id": "zoKD_d0Nd9r8"
      },
      "execution_count": null,
      "outputs": []
    },
    {
      "cell_type": "markdown",
      "source": [
        "**This model is 96% accurate.**"
      ],
      "metadata": {
        "id": "JM67E8uxd9r9"
      }
    },
    {
      "cell_type": "markdown",
      "source": [
        "# **Gaussian Naive Bayes**"
      ],
      "metadata": {
        "id": "NXYNvvPUd9r9"
      }
    },
    {
      "cell_type": "code",
      "source": [
        "#Fitting Gaussian Naive Bayes classifier to the training set\n",
        "from sklearn.naive_bayes import GaussianNB\n",
        "gnb_model = GaussianNB()\n",
        "gnb_model.fit(X_train, y_train)"
      ],
      "metadata": {
        "execution": {
          "iopub.status.busy": "2023-03-23T10:38:54.525219Z",
          "iopub.execute_input": "2023-03-23T10:38:54.525698Z",
          "iopub.status.idle": "2023-03-23T10:38:54.541394Z",
          "shell.execute_reply.started": "2023-03-23T10:38:54.525649Z",
          "shell.execute_reply": "2023-03-23T10:38:54.540213Z"
        },
        "trusted": true,
        "id": "khoTIHkzd9r9"
      },
      "execution_count": null,
      "outputs": []
    },
    {
      "cell_type": "code",
      "source": [
        "#Predicting result using testing data\n",
        "y_gnb_pred= gnb_model.predict(X_test)\n",
        "y_gnb_pred"
      ],
      "metadata": {
        "execution": {
          "iopub.status.busy": "2023-03-23T10:38:54.542836Z",
          "iopub.execute_input": "2023-03-23T10:38:54.543406Z",
          "iopub.status.idle": "2023-03-23T10:38:54.561204Z",
          "shell.execute_reply.started": "2023-03-23T10:38:54.543357Z",
          "shell.execute_reply": "2023-03-23T10:38:54.559772Z"
        },
        "trusted": true,
        "id": "4d6QV3S8d9r9"
      },
      "execution_count": null,
      "outputs": []
    },
    {
      "cell_type": "code",
      "source": [
        "#Model accuracy\n",
        "gnb_cr=classification_report(y_test, y_gnb_pred)\n",
        "print(gnb_cr)"
      ],
      "metadata": {
        "execution": {
          "iopub.status.busy": "2023-03-23T10:38:54.562719Z",
          "iopub.execute_input": "2023-03-23T10:38:54.563189Z",
          "iopub.status.idle": "2023-03-23T10:38:54.580652Z",
          "shell.execute_reply.started": "2023-03-23T10:38:54.563105Z",
          "shell.execute_reply": "2023-03-23T10:38:54.578996Z"
        },
        "trusted": true,
        "id": "lNE70MWqd9r-"
      },
      "execution_count": null,
      "outputs": []
    },
    {
      "cell_type": "markdown",
      "source": [
        "**This model is 92% accurate.**"
      ],
      "metadata": {
        "id": "OhE_m4Gbd9r-"
      }
    },
    {
      "cell_type": "markdown",
      "source": [
        "# **Multinomial Naive Bayes**"
      ],
      "metadata": {
        "id": "TF4o6LAed9r_"
      }
    },
    {
      "cell_type": "code",
      "source": [
        "#Fitting Multinomial Naive Bayes classifier to the training set\n",
        "from sklearn.naive_bayes import MultinomialNB\n",
        "mnb_model = MultinomialNB()\n",
        "mnb_model.fit(X_train, y_train)"
      ],
      "metadata": {
        "execution": {
          "iopub.status.busy": "2023-03-23T10:38:54.582742Z",
          "iopub.execute_input": "2023-03-23T10:38:54.583451Z",
          "iopub.status.idle": "2023-03-23T10:38:54.599156Z",
          "shell.execute_reply.started": "2023-03-23T10:38:54.583397Z",
          "shell.execute_reply": "2023-03-23T10:38:54.597682Z"
        },
        "trusted": true,
        "id": "KQxTMgi4d9r_"
      },
      "execution_count": null,
      "outputs": []
    },
    {
      "cell_type": "code",
      "source": [
        "#Predicting result using testing data\n",
        "y_mnb_pred= mnb_model.predict(X_test)\n",
        "y_mnb_pred"
      ],
      "metadata": {
        "execution": {
          "iopub.status.busy": "2023-03-23T10:38:54.601735Z",
          "iopub.execute_input": "2023-03-23T10:38:54.603383Z",
          "iopub.status.idle": "2023-03-23T10:38:54.616113Z",
          "shell.execute_reply.started": "2023-03-23T10:38:54.603318Z",
          "shell.execute_reply": "2023-03-23T10:38:54.614687Z"
        },
        "trusted": true,
        "id": "_4RP_ta7d9r_"
      },
      "execution_count": null,
      "outputs": []
    },
    {
      "cell_type": "code",
      "source": [
        "#Model accuracy\n",
        "mnb_cr=classification_report(y_test, y_mnb_pred)\n",
        "print(mnb_cr)"
      ],
      "metadata": {
        "execution": {
          "iopub.status.busy": "2023-03-23T10:38:54.61781Z",
          "iopub.execute_input": "2023-03-23T10:38:54.618353Z",
          "iopub.status.idle": "2023-03-23T10:38:54.634941Z",
          "shell.execute_reply.started": "2023-03-23T10:38:54.618292Z",
          "shell.execute_reply": "2023-03-23T10:38:54.632377Z"
        },
        "trusted": true,
        "id": "WfDn3rnsd9sA"
      },
      "execution_count": null,
      "outputs": []
    },
    {
      "cell_type": "markdown",
      "source": [
        "**This model is 81% accurate.**"
      ],
      "metadata": {
        "id": "H33SJKjId9sB"
      }
    },
    {
      "cell_type": "markdown",
      "source": [
        "# **Support Vector Classifier**"
      ],
      "metadata": {
        "id": "A2E-SrXgd9sB"
      }
    },
    {
      "cell_type": "code",
      "source": [
        "#Fitting SVC to the training set\n",
        "from sklearn.svm import SVC\n",
        "svc_model = SVC()\n",
        "svc_model.fit(X_train, y_train)"
      ],
      "metadata": {
        "execution": {
          "iopub.status.busy": "2023-03-23T10:38:54.637055Z",
          "iopub.execute_input": "2023-03-23T10:38:54.637553Z",
          "iopub.status.idle": "2023-03-23T10:38:54.654698Z",
          "shell.execute_reply.started": "2023-03-23T10:38:54.637501Z",
          "shell.execute_reply": "2023-03-23T10:38:54.653256Z"
        },
        "trusted": true,
        "id": "MdaWf2ovd9sB"
      },
      "execution_count": null,
      "outputs": []
    },
    {
      "cell_type": "code",
      "source": [
        "#Predicting result using testing data\n",
        "y_svc_pred= svc_model.predict(X_test)\n",
        "y_svc_pred"
      ],
      "metadata": {
        "execution": {
          "iopub.status.busy": "2023-03-23T10:38:54.657713Z",
          "iopub.execute_input": "2023-03-23T10:38:54.658347Z",
          "iopub.status.idle": "2023-03-23T10:38:54.673998Z",
          "shell.execute_reply.started": "2023-03-23T10:38:54.658281Z",
          "shell.execute_reply": "2023-03-23T10:38:54.672371Z"
        },
        "trusted": true,
        "id": "ZuPUqFQRd9sB"
      },
      "execution_count": null,
      "outputs": []
    },
    {
      "cell_type": "code",
      "source": [
        "#Model accuracy\n",
        "svc_cr=classification_report(y_test, y_svc_pred)\n",
        "print(svc_cr)"
      ],
      "metadata": {
        "execution": {
          "iopub.status.busy": "2023-03-23T10:38:54.678447Z",
          "iopub.execute_input": "2023-03-23T10:38:54.678969Z",
          "iopub.status.idle": "2023-03-23T10:38:54.694174Z",
          "shell.execute_reply.started": "2023-03-23T10:38:54.678921Z",
          "shell.execute_reply": "2023-03-23T10:38:54.692697Z"
        },
        "trusted": true,
        "id": "-jAHHvm-d9sC"
      },
      "execution_count": null,
      "outputs": []
    },
    {
      "cell_type": "markdown",
      "source": [
        "**This model is 98% accurate.**"
      ],
      "metadata": {
        "id": "yf02x-2Ad9sC"
      }
    },
    {
      "cell_type": "markdown",
      "source": [
        "# **Random Forest**"
      ],
      "metadata": {
        "id": "T7SEupvud9sC"
      }
    },
    {
      "cell_type": "code",
      "source": [
        "#Training\n",
        "from sklearn.ensemble import RandomForestClassifier\n",
        "rf_model = RandomForestClassifier()\n",
        "rf_model.fit(X_train, y_train)"
      ],
      "metadata": {
        "execution": {
          "iopub.status.busy": "2023-03-23T10:38:54.696113Z",
          "iopub.execute_input": "2023-03-23T10:38:54.697767Z",
          "iopub.status.idle": "2023-03-23T10:38:54.871519Z",
          "shell.execute_reply.started": "2023-03-23T10:38:54.697705Z",
          "shell.execute_reply": "2023-03-23T10:38:54.869838Z"
        },
        "trusted": true,
        "id": "erC8MZLRd9sC"
      },
      "execution_count": null,
      "outputs": []
    },
    {
      "cell_type": "code",
      "source": [
        "#Predicting result using testing data\n",
        "y_rf_pred= rf_model.predict(X_test)\n",
        "y_rf_pred"
      ],
      "metadata": {
        "execution": {
          "iopub.status.busy": "2023-03-23T10:38:54.873182Z",
          "iopub.execute_input": "2023-03-23T10:38:54.873728Z",
          "iopub.status.idle": "2023-03-23T10:38:54.905178Z",
          "shell.execute_reply.started": "2023-03-23T10:38:54.873667Z",
          "shell.execute_reply": "2023-03-23T10:38:54.903686Z"
        },
        "trusted": true,
        "id": "PtTCsLY4d9sC"
      },
      "execution_count": null,
      "outputs": []
    },
    {
      "cell_type": "code",
      "source": [
        "#Model accuracy\n",
        "rf_cr=classification_report(y_test, y_rf_pred)\n",
        "print(rf_cr)"
      ],
      "metadata": {
        "execution": {
          "iopub.status.busy": "2023-03-23T10:38:54.907096Z",
          "iopub.execute_input": "2023-03-23T10:38:54.907706Z",
          "iopub.status.idle": "2023-03-23T10:38:54.92173Z",
          "shell.execute_reply.started": "2023-03-23T10:38:54.907644Z",
          "shell.execute_reply": "2023-03-23T10:38:54.920038Z"
        },
        "trusted": true,
        "id": "xGhilBlSd9sC"
      },
      "execution_count": null,
      "outputs": []
    },
    {
      "cell_type": "markdown",
      "source": [
        "**This model is also 98% accurate.**"
      ],
      "metadata": {
        "id": "v8hIlFKPd9sD"
      }
    },
    {
      "cell_type": "markdown",
      "source": [
        "# **XGBoost**"
      ],
      "metadata": {
        "id": "8ufHmtc8d9sD"
      }
    },
    {
      "cell_type": "code",
      "source": [
        "from xgboost import XGBClassifier\n",
        "xgb_model = XGBClassifier()\n",
        "xgb_model.fit(X_train, y_train)"
      ],
      "metadata": {
        "execution": {
          "iopub.status.busy": "2023-03-23T10:38:54.923861Z",
          "iopub.execute_input": "2023-03-23T10:38:54.926009Z",
          "iopub.status.idle": "2023-03-23T10:38:55.230181Z",
          "shell.execute_reply.started": "2023-03-23T10:38:54.925931Z",
          "shell.execute_reply": "2023-03-23T10:38:55.228721Z"
        },
        "trusted": true,
        "id": "aDxVI1FYd9sD"
      },
      "execution_count": null,
      "outputs": []
    },
    {
      "cell_type": "code",
      "source": [
        "#Predicting result using testing data\n",
        "y_xgb_pred= xgb_model.predict(X_test)\n",
        "y_xgb_pred"
      ],
      "metadata": {
        "execution": {
          "iopub.status.busy": "2023-03-23T10:38:55.232204Z",
          "iopub.execute_input": "2023-03-23T10:38:55.233078Z",
          "iopub.status.idle": "2023-03-23T10:38:55.250336Z",
          "shell.execute_reply.started": "2023-03-23T10:38:55.233019Z",
          "shell.execute_reply": "2023-03-23T10:38:55.248717Z"
        },
        "trusted": true,
        "id": "Hkg1BTvdd9sD"
      },
      "execution_count": null,
      "outputs": []
    },
    {
      "cell_type": "code",
      "source": [
        "#Model accuracy\n",
        "xgb_cr=classification_report(y_test, y_xgb_pred)\n",
        "print(xgb_cr)"
      ],
      "metadata": {
        "execution": {
          "iopub.status.busy": "2023-03-23T10:38:55.252154Z",
          "iopub.execute_input": "2023-03-23T10:38:55.252913Z",
          "iopub.status.idle": "2023-03-23T10:38:55.269909Z",
          "shell.execute_reply.started": "2023-03-23T10:38:55.252865Z",
          "shell.execute_reply": "2023-03-23T10:38:55.268811Z"
        },
        "trusted": true,
        "id": "VSEjptVEd9sD"
      },
      "execution_count": null,
      "outputs": []
    },
    {
      "cell_type": "markdown",
      "source": [
        "**This model is also 97% accurate.**"
      ],
      "metadata": {
        "id": "BWAFmgUud9sD"
      }
    },
    {
      "cell_type": "markdown",
      "source": [
        "# **Multi-layer Perceptron classifier**"
      ],
      "metadata": {
        "execution": {
          "iopub.status.busy": "2023-02-24T06:18:38.849101Z",
          "iopub.execute_input": "2023-02-24T06:18:38.849499Z",
          "iopub.status.idle": "2023-02-24T06:18:38.854549Z",
          "shell.execute_reply.started": "2023-02-24T06:18:38.849467Z",
          "shell.execute_reply": "2023-02-24T06:18:38.853244Z"
        },
        "id": "gmTVa4Yqd9sE"
      }
    },
    {
      "cell_type": "code",
      "source": [
        "#Training a neural network model\n",
        "from sklearn.neural_network import MLPClassifier\n",
        "mlp_model = MLPClassifier()\n",
        "mlp_model.fit(X_train, y_train)"
      ],
      "metadata": {
        "execution": {
          "iopub.status.busy": "2023-03-23T10:38:55.27179Z",
          "iopub.execute_input": "2023-03-23T10:38:55.272695Z",
          "iopub.status.idle": "2023-03-23T10:38:56.100179Z",
          "shell.execute_reply.started": "2023-03-23T10:38:55.272625Z",
          "shell.execute_reply": "2023-03-23T10:38:56.09871Z"
        },
        "trusted": true,
        "id": "kMj-Xadrd9sE"
      },
      "execution_count": null,
      "outputs": []
    },
    {
      "cell_type": "code",
      "source": [
        "#Predicting result using testing data\n",
        "y_mlp_pred= mlp_model.predict(X_test)\n",
        "y_mlp_pred"
      ],
      "metadata": {
        "execution": {
          "iopub.status.busy": "2023-03-23T10:38:56.102267Z",
          "iopub.execute_input": "2023-03-23T10:38:56.103088Z",
          "iopub.status.idle": "2023-03-23T10:38:56.118922Z",
          "shell.execute_reply.started": "2023-03-23T10:38:56.103025Z",
          "shell.execute_reply": "2023-03-23T10:38:56.116983Z"
        },
        "trusted": true,
        "id": "sLsOA-GBd9sE"
      },
      "execution_count": null,
      "outputs": []
    },
    {
      "cell_type": "code",
      "source": [
        "#Model accuracy\n",
        "mlp_cr=classification_report(y_test, y_mlp_pred)\n",
        "print(mlp_cr)"
      ],
      "metadata": {
        "execution": {
          "iopub.status.busy": "2023-03-23T10:38:56.121358Z",
          "iopub.execute_input": "2023-03-23T10:38:56.12223Z",
          "iopub.status.idle": "2023-03-23T10:38:56.142214Z",
          "shell.execute_reply.started": "2023-03-23T10:38:56.122168Z",
          "shell.execute_reply": "2023-03-23T10:38:56.1407Z"
        },
        "trusted": true,
        "id": "tfzZfWdMd9sE"
      },
      "execution_count": null,
      "outputs": []
    },
    {
      "cell_type": "markdown",
      "source": [
        "**This model is also 98% accurate.**"
      ],
      "metadata": {
        "id": "TYm_90qAd9sE"
      }
    },
    {
      "cell_type": "markdown",
      "source": [
        "# **Gradient Boosting**"
      ],
      "metadata": {
        "execution": {
          "iopub.status.busy": "2023-02-24T06:21:03.647154Z",
          "iopub.execute_input": "2023-02-24T06:21:03.647586Z",
          "iopub.status.idle": "2023-02-24T06:21:03.653955Z",
          "shell.execute_reply.started": "2023-02-24T06:21:03.647552Z",
          "shell.execute_reply": "2023-02-24T06:21:03.652238Z"
        },
        "id": "leiAlitjd9sE"
      }
    },
    {
      "cell_type": "code",
      "source": [
        "#Training\n",
        "from sklearn.ensemble import GradientBoostingClassifier\n",
        "gb_model = GradientBoostingClassifier()\n",
        "gb_model.fit(X_train, y_train)"
      ],
      "metadata": {
        "execution": {
          "iopub.status.busy": "2023-03-23T10:38:56.144452Z",
          "iopub.execute_input": "2023-03-23T10:38:56.145312Z",
          "iopub.status.idle": "2023-03-23T10:38:56.275787Z",
          "shell.execute_reply.started": "2023-03-23T10:38:56.145255Z",
          "shell.execute_reply": "2023-03-23T10:38:56.274115Z"
        },
        "trusted": true,
        "id": "wHWpOZI4d9sF"
      },
      "execution_count": null,
      "outputs": []
    },
    {
      "cell_type": "code",
      "source": [
        "#Predicting result using testing data\n",
        "y_gb_pred= gb_model.predict(X_test)\n",
        "y_gb_pred"
      ],
      "metadata": {
        "execution": {
          "iopub.status.busy": "2023-03-23T10:38:56.277471Z",
          "iopub.execute_input": "2023-03-23T10:38:56.277918Z",
          "iopub.status.idle": "2023-03-23T10:38:56.289213Z",
          "shell.execute_reply.started": "2023-03-23T10:38:56.277875Z",
          "shell.execute_reply": "2023-03-23T10:38:56.288198Z"
        },
        "trusted": true,
        "id": "J_0MRr0Id9sF"
      },
      "execution_count": null,
      "outputs": []
    },
    {
      "cell_type": "code",
      "source": [
        "#Model accuracy\n",
        "gb_cr=classification_report(y_test, y_gb_pred)\n",
        "print(gb_cr)"
      ],
      "metadata": {
        "execution": {
          "iopub.status.busy": "2023-03-23T10:38:56.290617Z",
          "iopub.execute_input": "2023-03-23T10:38:56.291202Z",
          "iopub.status.idle": "2023-03-23T10:38:56.308122Z",
          "shell.execute_reply.started": "2023-03-23T10:38:56.291164Z",
          "shell.execute_reply": "2023-03-23T10:38:56.306906Z"
        },
        "trusted": true,
        "id": "acmCMXEFd9sF"
      },
      "execution_count": null,
      "outputs": []
    },
    {
      "cell_type": "markdown",
      "source": [
        "**This model is also 98% accurate.**"
      ],
      "metadata": {
        "id": "Iim4MO3Bd9sF"
      }
    },
    {
      "cell_type": "markdown",
      "source": [
        "From the above calculated accuracies, it is clear that the SVC, Random Forest, Multi-layer Perceptron and Gradient Boost models performed atmost level while the worst performed one is Multinomial Naive Bayes.\n",
        "However, I'm interested in a more efficient way of evaluating these models. Let's go for the Cross Validation methods using both K-Fold and Stratified K-Fold"
      ],
      "metadata": {
        "id": "g7jOsFRrd9sF"
      }
    },
    {
      "cell_type": "markdown",
      "source": [
        "# **Cross Validation**"
      ],
      "metadata": {
        "id": "SKacYeZHd9sF"
      }
    },
    {
      "cell_type": "markdown",
      "source": [
        "K-Fold cross validation is a popular technique used in machine learning for model evaluation and selection. It involves dividing a dataset into K subsets of equal size, called folds. The algorithm then trains and evaluates the model K times, each time using a different fold as the validation set and the remaining K-1 folds as the training set.\n",
        "\n",
        "During each iteration of K-Fold cross validation, the model is trained on K-1 folds and evaluated on the remaining fold. The performance metrics are then averaged over all K iterations to obtain an estimate of the model's overall performance.\n",
        "\n",
        "K-Fold cross validation is a robust method for model evaluation because it uses all the available data for training and testing. It also helps to reduce the risk of overfitting and provides a more accurate estimate of the model's performance than using a single training-test split.\n",
        "\n",
        "Typically, values of K between 5 and 10 are used for K-Fold cross validation, but the optimal value of K may vary depending on the size and complexity of the dataset, as well as the type of model being evaluated.\n",
        "\n",
        "Here are some general guidelines that can help you choose an appropriate value of K:\n",
        "\n",
        "1. For small datasets, it is recommended to use a larger value of K, such as 10. This is because the larger value of K allows for more robust estimates of model performance, given the limited amount of data.\n",
        "\n",
        "2. For larger datasets, a smaller value of K can be used, such as 5. This is because a larger value of K will result in K smaller training sets, which may not be representative of the full dataset. Using a smaller value of K ensures that each fold has a sufficient amount of data for both training and testing.\n",
        "\n",
        "3. For models that are computationally expensive or time-consuming to train, a smaller value of K is preferred to reduce the overall training time.\n",
        "\n",
        "4. It's also essential to note that the choice of K should not be based solely on the accuracy of the model. Other metrics, such as precision, recall, and F1 score, should also be considered, as they can provide valuable insights into the performance of the model."
      ],
      "metadata": {
        "id": "-3wYTOXFd9sG"
      }
    },
    {
      "cell_type": "code",
      "source": [
        "# K-Fold Cross Validation\n",
        "\n",
        "from sklearn.model_selection import KFold\n",
        "from sklearn.model_selection import cross_val_score\n",
        "\n",
        "k = 10\n",
        "kf = KFold(n_splits=k, shuffle=True, random_state=42)\n",
        "\n",
        "\n",
        "# Logistic regerssion model\n",
        "lr_model_scores = cross_val_score(lr_model,X, y, cv=kf)\n",
        "\n",
        "# Decision tree model\n",
        "dt_model_scores = cross_val_score(dt_model,X, y, cv=kf)\n",
        "\n",
        "# KNN model\n",
        "knn_model_scores = cross_val_score(knn_model,X, y, cv=kf)\n",
        "\n",
        "# Gaussian naive bayes model\n",
        "gnb_model_scores = cross_val_score(gnb_model,X, y, cv=kf)\n",
        "\n",
        "# Multinomial naive bayes model\n",
        "mnb_model_scores = cross_val_score(mnb_model,X, y, cv=kf)\n",
        "\n",
        "# Support Vector Classifier model\n",
        "svc_model_scores = cross_val_score(svc_model,X, y, cv=kf)\n",
        "\n",
        "# Random forest model\n",
        "rf_model_scores = cross_val_score(rf_model,X, y, cv=kf)\n",
        "\n",
        "# XGBoost model\n",
        "xgb_model_scores = cross_val_score(xgb_model,X, y, cv=kf)\n",
        "\n",
        "# Multi-layer perceptron model\n",
        "mlp_model_scores = cross_val_score(mlp_model,X, y, cv=kf)\n",
        "\n",
        "# Gradient boost model\n",
        "gb_model_scores = cross_val_score(gb_model,X, y, cv=kf)\n",
        "\n",
        "\n",
        "print(\"Logistic regression models' average accuracy:\", np.mean(lr_model_scores))\n",
        "print(\"Decision tree models' average accuracy:\", np.mean(dt_model_scores))\n",
        "print(\"KNN models' average accuracy:\", np.mean(knn_model_scores))\n",
        "print(\"Gaussian naive bayes models' average accuracy:\", np.mean(gnb_model_scores))\n",
        "print(\"Multinomial naive bayes models' average accuracy:\", np.mean(mnb_model_scores))\n",
        "print(\"Support Vector Classifier models' average accuracy:\", np.mean(svc_model_scores))\n",
        "print(\"Random forest models' average accuracy:\", np.mean(rf_model_scores))\n",
        "print(\"XGBoost models' average accuracy:\", np.mean(xgb_model_scores))\n",
        "print(\"Multi-layer perceptron models' average accuracy:\", np.mean(mlp_model_scores))\n",
        "print(\"Gradient boost models' average accuracy:\", np.mean(gb_model_scores))"
      ],
      "metadata": {
        "execution": {
          "iopub.status.busy": "2023-03-23T10:38:56.309686Z",
          "iopub.execute_input": "2023-03-23T10:38:56.310275Z",
          "iopub.status.idle": "2023-03-23T10:39:13.267312Z",
          "shell.execute_reply.started": "2023-03-23T10:38:56.310237Z",
          "shell.execute_reply": "2023-03-23T10:39:13.265861Z"
        },
        "trusted": true,
        "id": "gb_eOOXPd9sG"
      },
      "execution_count": null,
      "outputs": []
    },
    {
      "cell_type": "markdown",
      "source": [
        "**So the K-Fold cross validation is showing Gradient Boost model gives the most accuracy of 95.6%, and Decision Tree model also gives almost same accuracy, while Multinomial Naive Bayes model gives the least accuarcy of 74.2%.**"
      ],
      "metadata": {
        "id": "UIY1RaeWd9sG"
      }
    },
    {
      "cell_type": "markdown",
      "source": [
        "Stratified K-Fold cross-validation is a modification of the standard K-Fold cross-validation technique that is commonly used in machine learning when working with imbalanced datasets. The goal of Stratified K-Fold cross-validation is to ensure that each fold is representative of the overall dataset in terms of the class distribution.\n",
        "\n",
        "In standard K-Fold cross-validation, the data is split into K folds, and each fold is used as the validation set in turn. However, if the dataset has an imbalanced class distribution, this can lead to some of the folds having significantly fewer samples from the minority class, which can result in biased performance estimates.\n",
        "\n",
        "To address this issue, Stratified K-Fold cross-validation ensures that each fold has a similar proportion of samples from each class. It works by first dividing the dataset into K folds, as in standard K-Fold cross-validation. Then, for each fold, the algorithm ensures that the proportion of samples from each class is roughly the same as the proportion in the full dataset. This ensures that the model is evaluated on a representative sample of the data, regardless of the class distribution.\n",
        "\n",
        "Stratified K-Fold cross-validation is a powerful tool for evaluating the performance of machine learning models on imbalanced datasets. It can help to ensure that the model's performance is accurately estimated and that the model is robust to class imbalances in the dataset."
      ],
      "metadata": {
        "id": "GJK7S2Ogd9sG"
      }
    },
    {
      "cell_type": "code",
      "source": [
        "# K-Fold Cross Validation\n",
        "\n",
        "from sklearn.model_selection import StratifiedKFold\n",
        "from sklearn.model_selection import cross_val_score\n",
        "\n",
        "k = 10\n",
        "kf = StratifiedKFold(n_splits=k)\n",
        "\n",
        "\n",
        "# Logistic regerssion model\n",
        "lr_model_scores = cross_val_score(lr_model,X, y, cv=kf)\n",
        "\n",
        "# Decision tree model\n",
        "dt_model_scores = cross_val_score(dt_model,X, y, cv=kf)\n",
        "\n",
        "# KNN model\n",
        "knn_model_scores = cross_val_score(knn_model,X, y, cv=kf)\n",
        "\n",
        "# Gaussian naive bayes model\n",
        "gnb_model_scores = cross_val_score(gnb_model,X, y, cv=kf)\n",
        "\n",
        "# Multinomial naive bayes model\n",
        "mnb_model_scores = cross_val_score(mnb_model,X, y, cv=kf)\n",
        "\n",
        "# Support Vector Classifier model\n",
        "svc_model_scores = cross_val_score(svc_model,X, y, cv=kf)\n",
        "\n",
        "# Random forest model\n",
        "rf_model_scores = cross_val_score(rf_model,X, y, cv=kf)\n",
        "\n",
        "# XGBoost model\n",
        "xgb_model_scores = cross_val_score(xgb_model,X, y, cv=kf)\n",
        "\n",
        "# Multi-layer perceptron model\n",
        "mlp_model_scores = cross_val_score(mlp_model,X, y, cv=kf)\n",
        "\n",
        "# Gradient boost model\n",
        "gb_model_scores = cross_val_score(gb_model,X, y, cv=kf)\n",
        "\n",
        "\n",
        "print(\"Logistic regression models' average accuracy:\", np.mean(lr_model_scores))\n",
        "print(\"Decision tree models' average accuracy:\", np.mean(dt_model_scores))\n",
        "print(\"KNN models' average accuracy:\", np.mean(knn_model_scores))\n",
        "print(\"Gaussian naive bayes models' average accuracy:\", np.mean(gnb_model_scores))\n",
        "print(\"Multinomial naive bayes models' average accuracy:\", np.mean(mnb_model_scores))\n",
        "print(\"Support Vector Classifier models' average accuracy:\", np.mean(svc_model_scores))\n",
        "print(\"Random forest models' average accuracy:\", np.mean(rf_model_scores))\n",
        "print(\"XGBoost models' average accuracy:\", np.mean(xgb_model_scores))\n",
        "print(\"Multi-layer perceptron models' average accuracy:\", np.mean(mlp_model_scores))\n",
        "print(\"Gradient boost models' average accuracy:\", np.mean(gb_model_scores))"
      ],
      "metadata": {
        "execution": {
          "iopub.status.busy": "2023-03-23T10:39:13.269304Z",
          "iopub.execute_input": "2023-03-23T10:39:13.26995Z",
          "iopub.status.idle": "2023-03-23T10:39:31.507033Z",
          "shell.execute_reply.started": "2023-03-23T10:39:13.269893Z",
          "shell.execute_reply": "2023-03-23T10:39:31.505291Z"
        },
        "trusted": true,
        "id": "PFOdeQLyd9sG"
      },
      "execution_count": null,
      "outputs": []
    },
    {
      "cell_type": "markdown",
      "source": [
        "**So the Stratified K-Fold cross validation is showing Random Forest model gives the most accuracy of 94.6%, and also other models like Gradient Boost, Support Vector Classifier, XGBoost gives almost same accuracies, while Multinomial Naive Bayes model gives the least accuarcy of 75.7%.**"
      ],
      "metadata": {
        "id": "gFoM0gynd9sH"
      }
    }
  ]
}