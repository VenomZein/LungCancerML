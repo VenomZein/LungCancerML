{
  "cells": [
    {
      "cell_type": "code",
      "execution_count": null,
      "metadata": {
        "id": "qUhrKm14d9rg"
      },
      "outputs": [],
      "source": [
        "\n",
        "# IMPORTANT: RUN THIS CELL IN ORDER TO BE SET NO MATTER WHERE YOU RUN THIS FROM \n",
        "# BUT IT THIS CODE IS OPTIMIZED FOR RUNING ON KUGGLE\n",
        "\n",
        "import os\n",
        "import sys\n",
        "from tempfile import NamedTemporaryFile\n",
        "from urllib.request import urlopen\n",
        "from urllib.parse import unquote, urlparse\n",
        "from urllib.error import HTTPError\n",
        "from zipfile import ZipFile\n",
        "import tarfile\n",
        "import shutil\n",
        "\n",
        "CHUNK_SIZE = 40960\n",
        "DATA_SOURCE_MAPPING = 'lung-cancer:https%3A%2F%2Fstorage.googleapis.com%2Fkaggle-data-sets%2F2206522%2F3947767%2Fbundle%2Farchive.zip%3FX-Goog-Algorithm%3DGOOG4-RSA-SHA256%26X-Goog-Credential%3Dgcp-kaggle-com%2540kaggle-161607.iam.gserviceaccount.com%252F20240311%252Fauto%252Fstorage%252Fgoog4_request%26X-Goog-Date%3D20240311T122330Z%26X-Goog-Expires%3D259200%26X-Goog-SignedHeaders%3Dhost%26X-Goog-Signature%3D1330bf58b06abebec8292200e9cd21a3a3ea5db9f44a9ec58e77ebe71d8f2304ee7fcd0705f4007d2471f7fd3e14b48afb494d45f38460c15e5d0ec939fff2d3cdc30284b0ba0326fad7356f111c9ce85de89638781d21109655227b36a6b61b9fdeeb33b3866c71ce64e9d69f9ed356b3bf6cee5022dda91cf4325ab45fd28cf66c2f0db8a9759cb8ac77e330172d9c9af6afd32e496b20ede1b29c6dbd3d815f2e3c5206c4175832b0ae6878c29170ee33bea2ffa28ba9f5a0b93e60bb57bcc0929fb4c198c12956314bbf07ccfc1ff4bcb53b0c7d5b85bca588bcda1664341c0c75849716521d0b1b53b4943f97d51d3227eea5e52273c8ef4384be7bd42c'\n",
        "\n",
        "KAGGLE_INPUT_PATH='/kaggle/input'\n",
        "KAGGLE_WORKING_PATH='/kaggle/working'\n",
        "KAGGLE_SYMLINK='kaggle'\n",
        "\n",
        "!umount /kaggle/input/ 2> /dev/null\n",
        "shutil.rmtree('/kaggle/input', ignore_errors=True)\n",
        "os.makedirs(KAGGLE_INPUT_PATH, 0o777, exist_ok=True)\n",
        "os.makedirs(KAGGLE_WORKING_PATH, 0o777, exist_ok=True)\n",
        "\n",
        "try:\n",
        "  os.symlink(KAGGLE_INPUT_PATH, os.path.join(\"..\", 'input'), target_is_directory=True)\n",
        "except FileExistsError:\n",
        "  pass\n",
        "try:\n",
        "  os.symlink(KAGGLE_WORKING_PATH, os.path.join(\"..\", 'working'), target_is_directory=True)\n",
        "except FileExistsError:\n",
        "  pass\n",
        "\n",
        "for data_source_mapping in DATA_SOURCE_MAPPING.split(','):\n",
        "    directory, download_url_encoded = data_source_mapping.split(':')\n",
        "    download_url = unquote(download_url_encoded)\n",
        "    filename = urlparse(download_url).path\n",
        "    destination_path = os.path.join(KAGGLE_INPUT_PATH, directory)\n",
        "    try:\n",
        "        with urlopen(download_url) as fileres, NamedTemporaryFile() as tfile:\n",
        "            total_length = fileres.headers['content-length']\n",
        "            print(f'Downloading {directory}, {total_length} bytes compressed')\n",
        "            dl = 0\n",
        "            data = fileres.read(CHUNK_SIZE)\n",
        "            while len(data) > 0:\n",
        "                dl += len(data)\n",
        "                tfile.write(data)\n",
        "                done = int(50 * dl / int(total_length))\n",
        "                sys.stdout.write(f\"\\r[{'=' * done}{' ' * (50-done)}] {dl} bytes downloaded\")\n",
        "                sys.stdout.flush()\n",
        "                data = fileres.read(CHUNK_SIZE)\n",
        "            if filename.endswith('.zip'):\n",
        "              with ZipFile(tfile) as zfile:\n",
        "                zfile.extractall(destination_path)\n",
        "            else:\n",
        "              with tarfile.open(tfile.name) as tarfile:\n",
        "                tarfile.extractall(destination_path)\n",
        "            print(f'\\nDownloaded and uncompressed: {directory}')\n",
        "    except HTTPError as e:\n",
        "        print(f'Failed to load (likely expired) {download_url} to path {destination_path}')\n",
        "        continue\n",
        "    except OSError as e:\n",
        "        print(f'Failed to load {download_url} to path {destination_path}')\n",
        "        continue\n",
        "\n",
        "print('Data source import complete.')\n"
      ]
    },
    {
      "cell_type": "markdown",
      "metadata": {
        "id": "NPhMR8Eid9rk"
      },
      "source": [
        "# **Lung Cancer Prediction Using 10 models**"
      ]
    },
    {
      "cell_type": "markdown",
      "metadata": {
        "id": "_H89SOESd9rm"
      },
      "source": [
        "##### Lung cancer prediction using 10 machine learning classification models using Scikit-learn library in Python is a code implementation that aims to develop a predictive model for detecting lung cancer in patients. The code uses 10 different machine learning algorithms, including logistic regression, decision tree, k-nearest neighbor, Gaussian naive Bayes, multinomial naive Bayes, support vector classifier, random forest, XGBoost, multi-layer perceptron, and gradient boosting classifier, to predict the likelihood of lung cancer based on a range of variables. The dataset used in the code includes various columns such as gender, age, smoking, yellow fingers, anxiety, peer pressure, chronic disease, fatigue, allergy, wheezing, alcohol consuming, coughing, shortness of breath, swallowing difficulty, chest pain, and lung cancer. By analyzing these variables and using machine learning algorithms to identify patterns and correlations, the predictive models can provide accurate assessments of a patient's risk of developing lung cancer.####"
      ]
    },
    {
      "cell_type": "code",
      "execution_count": null,
      "metadata": {
        "execution": {
          "iopub.execute_input": "2023-03-23T10:38:46.790492Z",
          "iopub.status.busy": "2023-03-23T10:38:46.790012Z",
          "iopub.status.idle": "2023-03-23T10:38:47.413506Z",
          "shell.execute_reply": "2023-03-23T10:38:47.412332Z",
          "shell.execute_reply.started": "2023-03-23T10:38:46.790449Z"
        },
        "id": "fTrtX6zrd9rn",
        "trusted": true
      },
      "outputs": [],
      "source": [
        "#Importing Libraries\n",
        "import pandas as pd\n",
        "import numpy as np\n",
        "import matplotlib.pyplot as plt\n",
        "import seaborn as sns\n",
        "\n",
        "#For ignoring warning\n",
        "import warnings\n",
        "warnings.filterwarnings(\"ignore\")"
      ]
    },
    {
      "cell_type": "code",
      "execution_count": null,
      "metadata": {
        "execution": {
          "iopub.execute_input": "2023-03-23T10:38:47.416349Z",
          "iopub.status.busy": "2023-03-23T10:38:47.415623Z",
          "iopub.status.idle": "2023-03-23T10:38:47.45482Z",
          "shell.execute_reply": "2023-03-23T10:38:47.45311Z",
          "shell.execute_reply.started": "2023-03-23T10:38:47.416302Z"
        },
        "id": "S3MZx3tEd9rp",
        "trusted": true
      },
      "outputs": [],
      "source": [
        "df=pd.read_csv('../input/lung-cancer/survey lung cancer.csv')\n",
        "df"
      ]
    },
    {
      "cell_type": "markdown",
      "metadata": {
        "id": "REu3yntUd9rp"
      },
      "source": [
        "**Note: In this dataset, YES=2 & NO=1**"
      ]
    },
    {
      "cell_type": "code",
      "execution_count": null,
      "metadata": {
        "execution": {
          "iopub.execute_input": "2023-03-23T10:38:47.45763Z",
          "iopub.status.busy": "2023-03-23T10:38:47.457036Z",
          "iopub.status.idle": "2023-03-23T10:38:47.468201Z",
          "shell.execute_reply": "2023-03-23T10:38:47.466278Z",
          "shell.execute_reply.started": "2023-03-23T10:38:47.457549Z"
        },
        "id": "cZZ2fs-vd9rq",
        "trusted": true
      },
      "outputs": [],
      "source": [
        "df.shape"
      ]
    },
    {
      "cell_type": "code",
      "execution_count": null,
      "metadata": {
        "execution": {
          "iopub.execute_input": "2023-03-23T10:38:47.472124Z",
          "iopub.status.busy": "2023-03-23T10:38:47.471424Z",
          "iopub.status.idle": "2023-03-23T10:38:47.487192Z",
          "shell.execute_reply": "2023-03-23T10:38:47.485464Z",
          "shell.execute_reply.started": "2023-03-23T10:38:47.472073Z"
        },
        "id": "-nV3-aBYd9rq",
        "trusted": true
      },
      "outputs": [],
      "source": [
        "#Checking for Duplicates\n",
        "df.duplicated().sum()"
      ]
    },
    {
      "cell_type": "code",
      "execution_count": null,
      "metadata": {
        "execution": {
          "iopub.execute_input": "2023-03-23T10:38:47.489243Z",
          "iopub.status.busy": "2023-03-23T10:38:47.488835Z",
          "iopub.status.idle": "2023-03-23T10:38:47.501122Z",
          "shell.execute_reply": "2023-03-23T10:38:47.499652Z",
          "shell.execute_reply.started": "2023-03-23T10:38:47.489204Z"
        },
        "id": "3n8sMoXNd9rr",
        "trusted": true
      },
      "outputs": [],
      "source": [
        "#Removing Duplicates\n",
        "df=df.drop_duplicates()"
      ]
    },
    {
      "cell_type": "code",
      "execution_count": null,
      "metadata": {
        "execution": {
          "iopub.execute_input": "2023-03-23T10:38:47.503284Z",
          "iopub.status.busy": "2023-03-23T10:38:47.502848Z",
          "iopub.status.idle": "2023-03-23T10:38:47.51989Z",
          "shell.execute_reply": "2023-03-23T10:38:47.518307Z",
          "shell.execute_reply.started": "2023-03-23T10:38:47.503241Z"
        },
        "id": "YgWKbay6d9rr",
        "trusted": true
      },
      "outputs": [],
      "source": [
        "#Checking for null values\n",
        "df.isnull().sum()"
      ]
    },
    {
      "cell_type": "code",
      "execution_count": null,
      "metadata": {
        "execution": {
          "iopub.execute_input": "2023-03-23T10:38:47.523163Z",
          "iopub.status.busy": "2023-03-23T10:38:47.522567Z",
          "iopub.status.idle": "2023-03-23T10:38:47.541929Z",
          "shell.execute_reply": "2023-03-23T10:38:47.540678Z",
          "shell.execute_reply.started": "2023-03-23T10:38:47.523083Z"
        },
        "id": "Pyeiv2r5d9rs",
        "trusted": true
      },
      "outputs": [],
      "source": [
        "df.info()"
      ]
    },
    {
      "cell_type": "code",
      "execution_count": null,
      "metadata": {
        "execution": {
          "iopub.execute_input": "2023-03-23T10:38:47.544392Z",
          "iopub.status.busy": "2023-03-23T10:38:47.543675Z",
          "iopub.status.idle": "2023-03-23T10:38:47.602982Z",
          "shell.execute_reply": "2023-03-23T10:38:47.601531Z",
          "shell.execute_reply.started": "2023-03-23T10:38:47.544344Z"
        },
        "id": "7yKssZiNd9rs",
        "trusted": true
      },
      "outputs": [],
      "source": [
        "df.describe()"
      ]
    },
    {
      "cell_type": "markdown",
      "metadata": {
        "id": "oRrxlEXkd9rs"
      },
      "source": [
        "**In this dataset, GENDER & LUNG_CANCER attributes are in object data type. So, let's convert them to numerical values using LabelEncoder from sklearn.\n",
        "LabelEncoder is a utility class to help normalize labels such that they contain only values between 0 and n_classes-1.\n",
        "It can also be used to transform non-numerical labels (as long as they are hashable and comparable) to numerical labels. Also let's make every other attributes as YES=1 & NO=0.**"
      ]
    },
    {
      "cell_type": "code",
      "execution_count": null,
      "metadata": {
        "execution": {
          "iopub.execute_input": "2023-03-23T10:38:47.605213Z",
          "iopub.status.busy": "2023-03-23T10:38:47.604802Z",
          "iopub.status.idle": "2023-03-23T10:38:47.675051Z",
          "shell.execute_reply": "2023-03-23T10:38:47.67344Z",
          "shell.execute_reply.started": "2023-03-23T10:38:47.605171Z"
        },
        "id": "fqO9PHged9rt",
        "trusted": true
      },
      "outputs": [],
      "source": [
        "from sklearn import preprocessing\n",
        "le=preprocessing.LabelEncoder()\n",
        "df['GENDER']=le.fit_transform(df['GENDER'])\n",
        "df['LUNG_CANCER']=le.fit_transform(df['LUNG_CANCER'])\n",
        "df['SMOKING']=le.fit_transform(df['SMOKING'])\n",
        "df['YELLOW_FINGERS']=le.fit_transform(df['YELLOW_FINGERS'])\n",
        "df['ANXIETY']=le.fit_transform(df['ANXIETY'])\n",
        "df['PEER_PRESSURE']=le.fit_transform(df['PEER_PRESSURE'])\n",
        "df['CHRONIC DISEASE']=le.fit_transform(df['CHRONIC DISEASE'])\n",
        "df['FATIGUE ']=le.fit_transform(df['FATIGUE '])\n",
        "df['ALLERGY ']=le.fit_transform(df['ALLERGY '])\n",
        "df['WHEEZING']=le.fit_transform(df['WHEEZING'])\n",
        "df['ALCOHOL CONSUMING']=le.fit_transform(df['ALCOHOL CONSUMING'])\n",
        "df['COUGHING']=le.fit_transform(df['COUGHING'])\n",
        "df['SHORTNESS OF BREATH']=le.fit_transform(df['SHORTNESS OF BREATH'])\n",
        "df['SWALLOWING DIFFICULTY']=le.fit_transform(df['SWALLOWING DIFFICULTY'])\n",
        "df['CHEST PAIN']=le.fit_transform(df['CHEST PAIN'])\n",
        "df['LUNG_CANCER']=le.fit_transform(df['LUNG_CANCER'])"
      ]
    },
    {
      "cell_type": "code",
      "execution_count": null,
      "metadata": {
        "execution": {
          "iopub.execute_input": "2023-03-23T10:38:47.680059Z",
          "iopub.status.busy": "2023-03-23T10:38:47.679574Z",
          "iopub.status.idle": "2023-03-23T10:38:47.705148Z",
          "shell.execute_reply": "2023-03-23T10:38:47.703643Z",
          "shell.execute_reply.started": "2023-03-23T10:38:47.680012Z"
        },
        "id": "LdSFuXbMd9rt",
        "trusted": true
      },
      "outputs": [],
      "source": [
        "#Let's check what's happened now\n",
        "df"
      ]
    },
    {
      "cell_type": "markdown",
      "metadata": {
        "id": "zOxK3JTTd9ru"
      },
      "source": [
        "**Note: Male=1 & Female=0. Also for other variables, YES=1 & NO=0**"
      ]
    },
    {
      "cell_type": "code",
      "execution_count": null,
      "metadata": {
        "execution": {
          "iopub.execute_input": "2023-03-23T10:38:47.707154Z",
          "iopub.status.busy": "2023-03-23T10:38:47.706767Z",
          "iopub.status.idle": "2023-03-23T10:38:47.72457Z",
          "shell.execute_reply": "2023-03-23T10:38:47.723058Z",
          "shell.execute_reply.started": "2023-03-23T10:38:47.707116Z"
        },
        "id": "l_EDK4NRd9ru",
        "trusted": true
      },
      "outputs": [],
      "source": [
        "df.info()"
      ]
    },
    {
      "cell_type": "code",
      "execution_count": null,
      "metadata": {
        "execution": {
          "iopub.execute_input": "2023-03-23T10:38:47.727437Z",
          "iopub.status.busy": "2023-03-23T10:38:47.726705Z",
          "iopub.status.idle": "2023-03-23T10:38:47.965922Z",
          "shell.execute_reply": "2023-03-23T10:38:47.964418Z",
          "shell.execute_reply.started": "2023-03-23T10:38:47.727391Z"
        },
        "id": "Ehhxm2vCd9ru",
        "trusted": true
      },
      "outputs": [],
      "source": [
        "#Let's check the distributaion of Target variable.\n",
        "sns.countplot(x='LUNG_CANCER', data=df,)\n",
        "plt.title('Target Distribution');"
      ]
    },
    {
      "cell_type": "markdown",
      "metadata": {
        "id": "rYcLkJNId9ru"
      },
      "source": [
        "##### ***That is, Target Distribution is imbalanced.***"
      ]
    },
    {
      "cell_type": "code",
      "execution_count": null,
      "metadata": {
        "execution": {
          "iopub.execute_input": "2023-03-23T10:38:47.968114Z",
          "iopub.status.busy": "2023-03-23T10:38:47.967644Z",
          "iopub.status.idle": "2023-03-23T10:38:47.978959Z",
          "shell.execute_reply": "2023-03-23T10:38:47.977468Z",
          "shell.execute_reply.started": "2023-03-23T10:38:47.968068Z"
        },
        "id": "jlDX68VYd9rv",
        "trusted": true
      },
      "outputs": [],
      "source": [
        "df['LUNG_CANCER'].value_counts()"
      ]
    },
    {
      "cell_type": "markdown",
      "metadata": {
        "id": "ZMm9Lttcd9rv"
      },
      "source": [
        "***We will handle this imbalance before applyig algorithm.***"
      ]
    },
    {
      "cell_type": "markdown",
      "metadata": {
        "id": "KjqkDTx1d9rv"
      },
      "source": []
    },
    {
      "cell_type": "markdown",
      "metadata": {
        "id": "cXCLj9Esd9rv"
      },
      "source": [
        "**Now let's do some Data Visualizations for the better understanding of how the independent features are related to the target variable..**"
      ]
    },
    {
      "cell_type": "code",
      "execution_count": null,
      "metadata": {
        "execution": {
          "iopub.execute_input": "2023-03-23T10:38:47.981428Z",
          "iopub.status.busy": "2023-03-23T10:38:47.98084Z",
          "iopub.status.idle": "2023-03-23T10:38:47.990365Z",
          "shell.execute_reply": "2023-03-23T10:38:47.989017Z",
          "shell.execute_reply.started": "2023-03-23T10:38:47.981376Z"
        },
        "id": "AgQ9q1RJd9rv",
        "trusted": true
      },
      "outputs": [],
      "source": [
        "# function for plotting\n",
        "def plot(col, df=df):\n",
        "    return df.groupby(col)['LUNG_CANCER'].value_counts(normalize=True).unstack().plot(kind='bar', figsize=(8,5))"
      ]
    },
    {
      "cell_type": "code",
      "execution_count": null,
      "metadata": {
        "execution": {
          "iopub.execute_input": "2023-03-23T10:38:47.992455Z",
          "iopub.status.busy": "2023-03-23T10:38:47.99207Z",
          "iopub.status.idle": "2023-03-23T10:38:48.2594Z",
          "shell.execute_reply": "2023-03-23T10:38:48.258059Z",
          "shell.execute_reply.started": "2023-03-23T10:38:47.992418Z"
        },
        "id": "gbwRwE6xd9rv",
        "trusted": true
      },
      "outputs": [],
      "source": [
        "plot('GENDER')"
      ]
    },
    {
      "cell_type": "code",
      "execution_count": null,
      "metadata": {
        "execution": {
          "iopub.execute_input": "2023-03-23T10:38:48.262722Z",
          "iopub.status.busy": "2023-03-23T10:38:48.261669Z",
          "iopub.status.idle": "2023-03-23T10:38:48.89557Z",
          "shell.execute_reply": "2023-03-23T10:38:48.894028Z",
          "shell.execute_reply.started": "2023-03-23T10:38:48.262659Z"
        },
        "id": "IOy9Gws4d9rw",
        "trusted": true
      },
      "outputs": [],
      "source": [
        "plot('AGE')"
      ]
    },
    {
      "cell_type": "code",
      "execution_count": null,
      "metadata": {
        "execution": {
          "iopub.execute_input": "2023-03-23T10:38:48.898178Z",
          "iopub.status.busy": "2023-03-23T10:38:48.89772Z",
          "iopub.status.idle": "2023-03-23T10:38:49.152943Z",
          "shell.execute_reply": "2023-03-23T10:38:49.151111Z",
          "shell.execute_reply.started": "2023-03-23T10:38:48.898126Z"
        },
        "id": "1MZJzaZXd9rw",
        "trusted": true
      },
      "outputs": [],
      "source": [
        "plot('SMOKING')"
      ]
    },
    {
      "cell_type": "code",
      "execution_count": null,
      "metadata": {
        "execution": {
          "iopub.execute_input": "2023-03-23T10:38:49.155725Z",
          "iopub.status.busy": "2023-03-23T10:38:49.155217Z",
          "iopub.status.idle": "2023-03-23T10:38:49.40684Z",
          "shell.execute_reply": "2023-03-23T10:38:49.405338Z",
          "shell.execute_reply.started": "2023-03-23T10:38:49.155677Z"
        },
        "id": "2xeGaGfid9rw",
        "trusted": true
      },
      "outputs": [],
      "source": [
        "plot('YELLOW_FINGERS')"
      ]
    },
    {
      "cell_type": "code",
      "execution_count": null,
      "metadata": {
        "execution": {
          "iopub.execute_input": "2023-03-23T10:38:49.410106Z",
          "iopub.status.busy": "2023-03-23T10:38:49.409208Z",
          "iopub.status.idle": "2023-03-23T10:38:49.666497Z",
          "shell.execute_reply": "2023-03-23T10:38:49.664751Z",
          "shell.execute_reply.started": "2023-03-23T10:38:49.41004Z"
        },
        "id": "2UyajTMKd9rw",
        "trusted": true
      },
      "outputs": [],
      "source": [
        "plot('ANXIETY')"
      ]
    },
    {
      "cell_type": "code",
      "execution_count": null,
      "metadata": {
        "execution": {
          "iopub.execute_input": "2023-03-23T10:38:49.668664Z",
          "iopub.status.busy": "2023-03-23T10:38:49.668185Z",
          "iopub.status.idle": "2023-03-23T10:38:49.925076Z",
          "shell.execute_reply": "2023-03-23T10:38:49.923409Z",
          "shell.execute_reply.started": "2023-03-23T10:38:49.668614Z"
        },
        "id": "Lir6VqCxd9rw",
        "trusted": true
      },
      "outputs": [],
      "source": [
        "plot('PEER_PRESSURE')"
      ]
    },
    {
      "cell_type": "code",
      "execution_count": null,
      "metadata": {
        "execution": {
          "iopub.execute_input": "2023-03-23T10:38:49.928472Z",
          "iopub.status.busy": "2023-03-23T10:38:49.927152Z",
          "iopub.status.idle": "2023-03-23T10:38:50.186246Z",
          "shell.execute_reply": "2023-03-23T10:38:50.184995Z",
          "shell.execute_reply.started": "2023-03-23T10:38:49.928385Z"
        },
        "id": "r1V_udtJd9rw",
        "trusted": true
      },
      "outputs": [],
      "source": [
        "plot('CHRONIC DISEASE')"
      ]
    },
    {
      "cell_type": "code",
      "execution_count": null,
      "metadata": {
        "execution": {
          "iopub.execute_input": "2023-03-23T10:38:50.188857Z",
          "iopub.status.busy": "2023-03-23T10:38:50.187712Z",
          "iopub.status.idle": "2023-03-23T10:38:50.453498Z",
          "shell.execute_reply": "2023-03-23T10:38:50.451766Z",
          "shell.execute_reply.started": "2023-03-23T10:38:50.188805Z"
        },
        "id": "UKAO6kxjd9rw",
        "trusted": true
      },
      "outputs": [],
      "source": [
        "plot('FATIGUE ')"
      ]
    },
    {
      "cell_type": "code",
      "execution_count": null,
      "metadata": {
        "execution": {
          "iopub.execute_input": "2023-03-23T10:38:50.456373Z",
          "iopub.status.busy": "2023-03-23T10:38:50.45508Z",
          "iopub.status.idle": "2023-03-23T10:38:50.68051Z",
          "shell.execute_reply": "2023-03-23T10:38:50.677959Z",
          "shell.execute_reply.started": "2023-03-23T10:38:50.456317Z"
        },
        "id": "_gFHsaAXd9rx",
        "trusted": true
      },
      "outputs": [],
      "source": [
        "plot('ALLERGY ')"
      ]
    },
    {
      "cell_type": "code",
      "execution_count": null,
      "metadata": {
        "execution": {
          "iopub.execute_input": "2023-03-23T10:38:50.683093Z",
          "iopub.status.busy": "2023-03-23T10:38:50.682516Z",
          "iopub.status.idle": "2023-03-23T10:38:50.92669Z",
          "shell.execute_reply": "2023-03-23T10:38:50.925007Z",
          "shell.execute_reply.started": "2023-03-23T10:38:50.683041Z"
        },
        "id": "XQnL0nujd9rx",
        "trusted": true
      },
      "outputs": [],
      "source": [
        "plot('WHEEZING')"
      ]
    },
    {
      "cell_type": "code",
      "execution_count": null,
      "metadata": {
        "execution": {
          "iopub.execute_input": "2023-03-23T10:38:50.928828Z",
          "iopub.status.busy": "2023-03-23T10:38:50.928288Z",
          "iopub.status.idle": "2023-03-23T10:38:51.383822Z",
          "shell.execute_reply": "2023-03-23T10:38:51.382144Z",
          "shell.execute_reply.started": "2023-03-23T10:38:50.928777Z"
        },
        "id": "ArP-p8W1d9rx",
        "trusted": true
      },
      "outputs": [],
      "source": [
        "plot('ALCOHOL CONSUMING')"
      ]
    },
    {
      "cell_type": "code",
      "execution_count": null,
      "metadata": {
        "execution": {
          "iopub.execute_input": "2023-03-23T10:38:51.386884Z",
          "iopub.status.busy": "2023-03-23T10:38:51.385998Z",
          "iopub.status.idle": "2023-03-23T10:38:51.63847Z",
          "shell.execute_reply": "2023-03-23T10:38:51.636894Z",
          "shell.execute_reply.started": "2023-03-23T10:38:51.386825Z"
        },
        "id": "g7zYQNhxd9rx",
        "trusted": true
      },
      "outputs": [],
      "source": [
        "plot('COUGHING')"
      ]
    },
    {
      "cell_type": "code",
      "execution_count": null,
      "metadata": {
        "execution": {
          "iopub.execute_input": "2023-03-23T10:38:51.641187Z",
          "iopub.status.busy": "2023-03-23T10:38:51.640749Z",
          "iopub.status.idle": "2023-03-23T10:38:51.902671Z",
          "shell.execute_reply": "2023-03-23T10:38:51.901135Z",
          "shell.execute_reply.started": "2023-03-23T10:38:51.641141Z"
        },
        "id": "oGH4WcaFd9rx",
        "trusted": true
      },
      "outputs": [],
      "source": [
        "plot('SHORTNESS OF BREATH')"
      ]
    },
    {
      "cell_type": "code",
      "execution_count": null,
      "metadata": {
        "execution": {
          "iopub.execute_input": "2023-03-23T10:38:51.912853Z",
          "iopub.status.busy": "2023-03-23T10:38:51.911397Z",
          "iopub.status.idle": "2023-03-23T10:38:52.136214Z",
          "shell.execute_reply": "2023-03-23T10:38:52.134784Z",
          "shell.execute_reply.started": "2023-03-23T10:38:51.912768Z"
        },
        "id": "aizQSJ-3d9rx",
        "trusted": true
      },
      "outputs": [],
      "source": [
        "plot('SWALLOWING DIFFICULTY')"
      ]
    },
    {
      "cell_type": "code",
      "execution_count": null,
      "metadata": {
        "execution": {
          "iopub.execute_input": "2023-03-23T10:38:52.138678Z",
          "iopub.status.busy": "2023-03-23T10:38:52.138106Z",
          "iopub.status.idle": "2023-03-23T10:38:52.393786Z",
          "shell.execute_reply": "2023-03-23T10:38:52.392657Z",
          "shell.execute_reply.started": "2023-03-23T10:38:52.13861Z"
        },
        "id": "7JtH_JYld9rx",
        "trusted": true
      },
      "outputs": [],
      "source": [
        "plot('CHEST PAIN')"
      ]
    },
    {
      "cell_type": "markdown",
      "metadata": {
        "id": "qpEiGwr1d9r2"
      },
      "source": [
        "**From the visualizations, it is clear that in the given dataset, the features GENDER, AGE, SMOKING and SHORTNESS OF BREATH don't have that much relationship with LUNG CANCER. So let's drop those features to make this dataset more clean.**"
      ]
    },
    {
      "cell_type": "code",
      "execution_count": null,
      "metadata": {
        "execution": {
          "iopub.execute_input": "2023-03-23T10:38:52.396256Z",
          "iopub.status.busy": "2023-03-23T10:38:52.395423Z",
          "iopub.status.idle": "2023-03-23T10:38:52.417818Z",
          "shell.execute_reply": "2023-03-23T10:38:52.416138Z",
          "shell.execute_reply.started": "2023-03-23T10:38:52.396206Z"
        },
        "id": "lYIXa2URd9r3",
        "trusted": true
      },
      "outputs": [],
      "source": [
        "df_new=df.drop(columns=['GENDER','AGE', 'SMOKING', 'SHORTNESS OF BREATH'])\n",
        "df_new"
      ]
    },
    {
      "cell_type": "markdown",
      "metadata": {
        "id": "VskPmZ8fd9r3"
      },
      "source": [
        "**CORRELATION**"
      ]
    },
    {
      "cell_type": "code",
      "execution_count": null,
      "metadata": {
        "execution": {
          "iopub.execute_input": "2023-03-23T10:38:52.420286Z",
          "iopub.status.busy": "2023-03-23T10:38:52.419881Z",
          "iopub.status.idle": "2023-03-23T10:38:52.454216Z",
          "shell.execute_reply": "2023-03-23T10:38:52.452814Z",
          "shell.execute_reply.started": "2023-03-23T10:38:52.420246Z"
        },
        "id": "M4C2D-oFd9r3",
        "trusted": true
      },
      "outputs": [],
      "source": [
        "#Finding Correlation\n",
        "cn=df_new.corr()\n",
        "cn"
      ]
    },
    {
      "cell_type": "code",
      "execution_count": null,
      "metadata": {
        "execution": {
          "iopub.execute_input": "2023-03-23T10:38:52.458004Z",
          "iopub.status.busy": "2023-03-23T10:38:52.456711Z",
          "iopub.status.idle": "2023-03-23T10:38:53.595322Z",
          "shell.execute_reply": "2023-03-23T10:38:53.593566Z",
          "shell.execute_reply.started": "2023-03-23T10:38:52.457927Z"
        },
        "id": "CG93j7M4d9r3",
        "trusted": true
      },
      "outputs": [],
      "source": [
        "#Correlation\n",
        "cmap=sns.diverging_palette(260,-10,s=50, l=75, n=6,\n",
        "as_cmap=True)\n",
        "plt.subplots(figsize=(18,18))\n",
        "sns.heatmap(cn,cmap=cmap,annot=True, square=True)\n",
        "plt.show()"
      ]
    },
    {
      "cell_type": "code",
      "execution_count": null,
      "metadata": {
        "execution": {
          "iopub.execute_input": "2023-03-23T10:38:53.597775Z",
          "iopub.status.busy": "2023-03-23T10:38:53.597334Z",
          "iopub.status.idle": "2023-03-23T10:38:54.137007Z",
          "shell.execute_reply": "2023-03-23T10:38:54.135425Z",
          "shell.execute_reply.started": "2023-03-23T10:38:53.597732Z"
        },
        "id": "wMd53KRcd9r3",
        "trusted": true
      },
      "outputs": [],
      "source": [
        "kot = cn[cn>=.40]\n",
        "plt.figure(figsize=(12,8))\n",
        "sns.heatmap(kot, cmap=\"Blues\")"
      ]
    },
    {
      "cell_type": "markdown",
      "metadata": {
        "id": "dsyY1Mksd9r3"
      },
      "source": []
    },
    {
      "cell_type": "markdown",
      "metadata": {
        "id": "orOBIxq6d9r4"
      },
      "source": [
        "# ***Feature Engineering***"
      ]
    },
    {
      "cell_type": "markdown",
      "metadata": {
        "id": "_PzAu7-7d9r4"
      },
      "source": [
        "Feature Engineering is the process of creating new features using existing features."
      ]
    },
    {
      "cell_type": "markdown",
      "metadata": {
        "id": "gvpDWBzyd9r4"
      },
      "source": [
        "***The correlation matrix shows that ANXIETY and YELLOW_FINGERS are correlated more than 50%. So, lets create a new feature combining them.***"
      ]
    },
    {
      "cell_type": "code",
      "execution_count": null,
      "metadata": {
        "execution": {
          "iopub.execute_input": "2023-03-23T10:38:54.139393Z",
          "iopub.status.busy": "2023-03-23T10:38:54.138985Z",
          "iopub.status.idle": "2023-03-23T10:38:54.161599Z",
          "shell.execute_reply": "2023-03-23T10:38:54.160154Z",
          "shell.execute_reply.started": "2023-03-23T10:38:54.139352Z"
        },
        "id": "TrL3Hgpwd9r4",
        "trusted": true
      },
      "outputs": [],
      "source": [
        "df_new['ANXYELFIN']=df_new['ANXIETY']*df_new['YELLOW_FINGERS']\n",
        "df_new"
      ]
    },
    {
      "cell_type": "code",
      "execution_count": null,
      "metadata": {
        "execution": {
          "iopub.execute_input": "2023-03-23T10:38:54.163963Z",
          "iopub.status.busy": "2023-03-23T10:38:54.163352Z",
          "iopub.status.idle": "2023-03-23T10:38:54.175734Z",
          "shell.execute_reply": "2023-03-23T10:38:54.174626Z",
          "shell.execute_reply.started": "2023-03-23T10:38:54.163918Z"
        },
        "id": "EwVMB-vXd9r4",
        "trusted": true
      },
      "outputs": [],
      "source": [
        "#Splitting independent and dependent variables\n",
        "X = df_new.drop('LUNG_CANCER', axis = 1)\n",
        "y = df_new['LUNG_CANCER']"
      ]
    },
    {
      "cell_type": "markdown",
      "metadata": {
        "id": "4GQC6jDXd9r4"
      },
      "source": [
        "# ***Target Distribution Imbalance Handling***"
      ]
    },
    {
      "cell_type": "code",
      "execution_count": null,
      "metadata": {
        "execution": {
          "iopub.execute_input": "2023-03-23T10:38:54.17796Z",
          "iopub.status.busy": "2023-03-23T10:38:54.176991Z",
          "iopub.status.idle": "2023-03-23T10:38:54.322622Z",
          "shell.execute_reply": "2023-03-23T10:38:54.3211Z",
          "shell.execute_reply.started": "2023-03-23T10:38:54.177914Z"
        },
        "id": "Yz0xQ52Yd9r4",
        "trusted": true
      },
      "outputs": [],
      "source": [
        "from imblearn.over_sampling import ADASYN\n",
        "adasyn = ADASYN(random_state=42)\n",
        "X, y = adasyn.fit_resample(X, y)"
      ]
    },
    {
      "cell_type": "code",
      "execution_count": null,
      "metadata": {
        "execution": {
          "iopub.execute_input": "2023-03-23T10:38:54.324551Z",
          "iopub.status.busy": "2023-03-23T10:38:54.324112Z",
          "iopub.status.idle": "2023-03-23T10:38:54.334768Z",
          "shell.execute_reply": "2023-03-23T10:38:54.333149Z",
          "shell.execute_reply.started": "2023-03-23T10:38:54.324508Z"
        },
        "id": "2LAuakbod9r5",
        "trusted": true
      },
      "outputs": [],
      "source": [
        "len(X)"
      ]
    },
    {
      "cell_type": "markdown",
      "metadata": {
        "id": "ewRUOF1pd9r5"
      },
      "source": [
        "# **Logistic Regression**"
      ]
    },
    {
      "cell_type": "code",
      "execution_count": null,
      "metadata": {
        "execution": {
          "iopub.execute_input": "2023-03-23T10:38:54.337463Z",
          "iopub.status.busy": "2023-03-23T10:38:54.336852Z",
          "iopub.status.idle": "2023-03-23T10:38:54.349868Z",
          "shell.execute_reply": "2023-03-23T10:38:54.347876Z",
          "shell.execute_reply.started": "2023-03-23T10:38:54.337399Z"
        },
        "id": "kZ2OAe31d9r6",
        "trusted": true
      },
      "outputs": [],
      "source": [
        "#Splitting data for training and testing\n",
        "from sklearn.model_selection import train_test_split\n",
        "X_train, X_test, y_train, y_test= train_test_split(X, y, test_size= 0.25, random_state=0)"
      ]
    },
    {
      "cell_type": "code",
      "execution_count": null,
      "metadata": {
        "execution": {
          "iopub.execute_input": "2023-03-23T10:38:54.354427Z",
          "iopub.status.busy": "2023-03-23T10:38:54.353903Z",
          "iopub.status.idle": "2023-03-23T10:38:54.376833Z",
          "shell.execute_reply": "2023-03-23T10:38:54.374923Z",
          "shell.execute_reply.started": "2023-03-23T10:38:54.354376Z"
        },
        "id": "okK3t-Fpd9r6",
        "trusted": true
      },
      "outputs": [],
      "source": [
        "#Fitting training data to the model\n",
        "from sklearn.linear_model import LogisticRegression\n",
        "lr_model=LogisticRegression(random_state=0)\n",
        "lr_model.fit(X_train, y_train)"
      ]
    },
    {
      "cell_type": "code",
      "execution_count": null,
      "metadata": {
        "execution": {
          "iopub.execute_input": "2023-03-23T10:38:54.382225Z",
          "iopub.status.busy": "2023-03-23T10:38:54.381725Z",
          "iopub.status.idle": "2023-03-23T10:38:54.39593Z",
          "shell.execute_reply": "2023-03-23T10:38:54.394166Z",
          "shell.execute_reply.started": "2023-03-23T10:38:54.382177Z"
        },
        "id": "E5FlXHgod9r6",
        "trusted": true
      },
      "outputs": [],
      "source": [
        "#Predicting result using testing data\n",
        "y_lr_pred= lr_model.predict(X_test)\n",
        "y_lr_pred"
      ]
    },
    {
      "cell_type": "code",
      "execution_count": null,
      "metadata": {
        "execution": {
          "iopub.execute_input": "2023-03-23T10:38:54.398743Z",
          "iopub.status.busy": "2023-03-23T10:38:54.398106Z",
          "iopub.status.idle": "2023-03-23T10:38:54.415639Z",
          "shell.execute_reply": "2023-03-23T10:38:54.41399Z",
          "shell.execute_reply.started": "2023-03-23T10:38:54.398629Z"
        },
        "id": "KTC46uLHd9r6",
        "trusted": true
      },
      "outputs": [],
      "source": [
        "#Model accuracy\n",
        "from sklearn.metrics import classification_report, accuracy_score, f1_score\n",
        "lr_cr=classification_report(y_test, y_lr_pred)\n",
        "print(lr_cr)"
      ]
    },
    {
      "cell_type": "markdown",
      "metadata": {
        "id": "c6Un3WuAd9r7"
      },
      "source": [
        "**This model is almost 97% accurate.**"
      ]
    },
    {
      "cell_type": "markdown",
      "metadata": {
        "id": "ptMZuSuRd9r7"
      },
      "source": [
        "# **Decision Tree**"
      ]
    },
    {
      "cell_type": "code",
      "execution_count": null,
      "metadata": {
        "execution": {
          "iopub.execute_input": "2023-03-23T10:38:54.421754Z",
          "iopub.status.busy": "2023-03-23T10:38:54.421218Z",
          "iopub.status.idle": "2023-03-23T10:38:54.437026Z",
          "shell.execute_reply": "2023-03-23T10:38:54.435235Z",
          "shell.execute_reply.started": "2023-03-23T10:38:54.421699Z"
        },
        "id": "2iRzb0Thd9r7",
        "trusted": true
      },
      "outputs": [],
      "source": [
        "#Fitting training data to the model\n",
        "from sklearn.tree import DecisionTreeClassifier\n",
        "dt_model= DecisionTreeClassifier(criterion='entropy', random_state=0)\n",
        "dt_model.fit(X_train, y_train)"
      ]
    },
    {
      "cell_type": "code",
      "execution_count": null,
      "metadata": {
        "execution": {
          "iopub.execute_input": "2023-03-23T10:38:54.440057Z",
          "iopub.status.busy": "2023-03-23T10:38:54.43889Z",
          "iopub.status.idle": "2023-03-23T10:38:54.453513Z",
          "shell.execute_reply": "2023-03-23T10:38:54.451995Z",
          "shell.execute_reply.started": "2023-03-23T10:38:54.439979Z"
        },
        "id": "TyRr_s0Rd9r7",
        "trusted": true
      },
      "outputs": [],
      "source": [
        "#Predicting result using testing data\n",
        "y_dt_pred= dt_model.predict(X_test)\n",
        "y_dt_pred"
      ]
    },
    {
      "cell_type": "code",
      "execution_count": null,
      "metadata": {
        "execution": {
          "iopub.execute_input": "2023-03-23T10:38:54.456013Z",
          "iopub.status.busy": "2023-03-23T10:38:54.455177Z",
          "iopub.status.idle": "2023-03-23T10:38:54.470225Z",
          "shell.execute_reply": "2023-03-23T10:38:54.468811Z",
          "shell.execute_reply.started": "2023-03-23T10:38:54.455937Z"
        },
        "id": "tUobmTY5d9r7",
        "trusted": true
      },
      "outputs": [],
      "source": [
        "#Model accuracy\n",
        "dt_cr=classification_report(y_test, y_dt_pred)\n",
        "print(dt_cr)"
      ]
    },
    {
      "cell_type": "markdown",
      "metadata": {
        "id": "MF9s3ClCd9r8"
      },
      "source": [
        "**This model is 94% accurate.**"
      ]
    },
    {
      "cell_type": "markdown",
      "metadata": {
        "id": "TnAjiZaed9r8"
      },
      "source": [
        "# **K Nearest Neighbor**"
      ]
    },
    {
      "cell_type": "code",
      "execution_count": null,
      "metadata": {
        "execution": {
          "iopub.execute_input": "2023-03-23T10:38:54.472276Z",
          "iopub.status.busy": "2023-03-23T10:38:54.471851Z",
          "iopub.status.idle": "2023-03-23T10:38:54.485832Z",
          "shell.execute_reply": "2023-03-23T10:38:54.483815Z",
          "shell.execute_reply.started": "2023-03-23T10:38:54.472233Z"
        },
        "id": "A5nRrHXad9r8",
        "trusted": true
      },
      "outputs": [],
      "source": [
        "#Fitting K-NN classifier to the training set\n",
        "from sklearn.neighbors import KNeighborsClassifier\n",
        "knn_model= KNeighborsClassifier(n_neighbors=5, metric='minkowski', p=2 )\n",
        "knn_model.fit(X_train, y_train)"
      ]
    },
    {
      "cell_type": "code",
      "execution_count": null,
      "metadata": {
        "execution": {
          "iopub.execute_input": "2023-03-23T10:38:54.489834Z",
          "iopub.status.busy": "2023-03-23T10:38:54.488423Z",
          "iopub.status.idle": "2023-03-23T10:38:54.507062Z",
          "shell.execute_reply": "2023-03-23T10:38:54.50573Z",
          "shell.execute_reply.started": "2023-03-23T10:38:54.489756Z"
        },
        "id": "YG2N6Gb4d9r8",
        "trusted": true
      },
      "outputs": [],
      "source": [
        "#Predicting result using testing data\n",
        "y_knn_pred= knn_model.predict(X_test)\n",
        "y_knn_pred"
      ]
    },
    {
      "cell_type": "code",
      "execution_count": null,
      "metadata": {
        "execution": {
          "iopub.execute_input": "2023-03-23T10:38:54.508738Z",
          "iopub.status.busy": "2023-03-23T10:38:54.508273Z",
          "iopub.status.idle": "2023-03-23T10:38:54.523263Z",
          "shell.execute_reply": "2023-03-23T10:38:54.521889Z",
          "shell.execute_reply.started": "2023-03-23T10:38:54.508693Z"
        },
        "id": "zoKD_d0Nd9r8",
        "trusted": true
      },
      "outputs": [],
      "source": [
        "#Model accuracy\n",
        "knn_cr=classification_report(y_test, y_knn_pred)\n",
        "print(knn_cr)"
      ]
    },
    {
      "cell_type": "markdown",
      "metadata": {
        "id": "JM67E8uxd9r9"
      },
      "source": [
        "**This model is 96% accurate.**"
      ]
    },
    {
      "cell_type": "markdown",
      "metadata": {
        "id": "NXYNvvPUd9r9"
      },
      "source": [
        "# **Gaussian Naive Bayes**"
      ]
    },
    {
      "cell_type": "code",
      "execution_count": null,
      "metadata": {
        "execution": {
          "iopub.execute_input": "2023-03-23T10:38:54.525698Z",
          "iopub.status.busy": "2023-03-23T10:38:54.525219Z",
          "iopub.status.idle": "2023-03-23T10:38:54.541394Z",
          "shell.execute_reply": "2023-03-23T10:38:54.540213Z",
          "shell.execute_reply.started": "2023-03-23T10:38:54.525649Z"
        },
        "id": "khoTIHkzd9r9",
        "trusted": true
      },
      "outputs": [],
      "source": [
        "#Fitting Gaussian Naive Bayes classifier to the training set\n",
        "from sklearn.naive_bayes import GaussianNB\n",
        "gnb_model = GaussianNB()\n",
        "gnb_model.fit(X_train, y_train)"
      ]
    },
    {
      "cell_type": "code",
      "execution_count": null,
      "metadata": {
        "execution": {
          "iopub.execute_input": "2023-03-23T10:38:54.543406Z",
          "iopub.status.busy": "2023-03-23T10:38:54.542836Z",
          "iopub.status.idle": "2023-03-23T10:38:54.561204Z",
          "shell.execute_reply": "2023-03-23T10:38:54.559772Z",
          "shell.execute_reply.started": "2023-03-23T10:38:54.543357Z"
        },
        "id": "4d6QV3S8d9r9",
        "trusted": true
      },
      "outputs": [],
      "source": [
        "#Predicting result using testing data\n",
        "y_gnb_pred= gnb_model.predict(X_test)\n",
        "y_gnb_pred"
      ]
    },
    {
      "cell_type": "code",
      "execution_count": null,
      "metadata": {
        "execution": {
          "iopub.execute_input": "2023-03-23T10:38:54.563189Z",
          "iopub.status.busy": "2023-03-23T10:38:54.562719Z",
          "iopub.status.idle": "2023-03-23T10:38:54.580652Z",
          "shell.execute_reply": "2023-03-23T10:38:54.578996Z",
          "shell.execute_reply.started": "2023-03-23T10:38:54.563105Z"
        },
        "id": "lNE70MWqd9r-",
        "trusted": true
      },
      "outputs": [],
      "source": [
        "#Model accuracy\n",
        "gnb_cr=classification_report(y_test, y_gnb_pred)\n",
        "print(gnb_cr)"
      ]
    },
    {
      "cell_type": "markdown",
      "metadata": {
        "id": "OhE_m4Gbd9r-"
      },
      "source": [
        "**This model is 92% accurate.**"
      ]
    },
    {
      "cell_type": "markdown",
      "metadata": {
        "id": "TF4o6LAed9r_"
      },
      "source": [
        "# **Multinomial Naive Bayes**"
      ]
    },
    {
      "cell_type": "code",
      "execution_count": null,
      "metadata": {
        "execution": {
          "iopub.execute_input": "2023-03-23T10:38:54.583451Z",
          "iopub.status.busy": "2023-03-23T10:38:54.582742Z",
          "iopub.status.idle": "2023-03-23T10:38:54.599156Z",
          "shell.execute_reply": "2023-03-23T10:38:54.597682Z",
          "shell.execute_reply.started": "2023-03-23T10:38:54.583397Z"
        },
        "id": "KQxTMgi4d9r_",
        "trusted": true
      },
      "outputs": [],
      "source": [
        "#Fitting Multinomial Naive Bayes classifier to the training set\n",
        "from sklearn.naive_bayes import MultinomialNB\n",
        "mnb_model = MultinomialNB()\n",
        "mnb_model.fit(X_train, y_train)"
      ]
    },
    {
      "cell_type": "code",
      "execution_count": null,
      "metadata": {
        "execution": {
          "iopub.execute_input": "2023-03-23T10:38:54.603383Z",
          "iopub.status.busy": "2023-03-23T10:38:54.601735Z",
          "iopub.status.idle": "2023-03-23T10:38:54.616113Z",
          "shell.execute_reply": "2023-03-23T10:38:54.614687Z",
          "shell.execute_reply.started": "2023-03-23T10:38:54.603318Z"
        },
        "id": "_4RP_ta7d9r_",
        "trusted": true
      },
      "outputs": [],
      "source": [
        "#Predicting result using testing data\n",
        "y_mnb_pred= mnb_model.predict(X_test)\n",
        "y_mnb_pred"
      ]
    },
    {
      "cell_type": "code",
      "execution_count": null,
      "metadata": {
        "execution": {
          "iopub.execute_input": "2023-03-23T10:38:54.618353Z",
          "iopub.status.busy": "2023-03-23T10:38:54.61781Z",
          "iopub.status.idle": "2023-03-23T10:38:54.634941Z",
          "shell.execute_reply": "2023-03-23T10:38:54.632377Z",
          "shell.execute_reply.started": "2023-03-23T10:38:54.618292Z"
        },
        "id": "WfDn3rnsd9sA",
        "trusted": true
      },
      "outputs": [],
      "source": [
        "#Model accuracy\n",
        "mnb_cr=classification_report(y_test, y_mnb_pred)\n",
        "print(mnb_cr)"
      ]
    },
    {
      "cell_type": "markdown",
      "metadata": {
        "id": "H33SJKjId9sB"
      },
      "source": [
        "**This model is 81% accurate.**"
      ]
    },
    {
      "cell_type": "markdown",
      "metadata": {
        "id": "A2E-SrXgd9sB"
      },
      "source": [
        "# **Support Vector Classifier**"
      ]
    },
    {
      "cell_type": "code",
      "execution_count": null,
      "metadata": {
        "execution": {
          "iopub.execute_input": "2023-03-23T10:38:54.637553Z",
          "iopub.status.busy": "2023-03-23T10:38:54.637055Z",
          "iopub.status.idle": "2023-03-23T10:38:54.654698Z",
          "shell.execute_reply": "2023-03-23T10:38:54.653256Z",
          "shell.execute_reply.started": "2023-03-23T10:38:54.637501Z"
        },
        "id": "MdaWf2ovd9sB",
        "trusted": true
      },
      "outputs": [],
      "source": [
        "#Fitting SVC to the training set\n",
        "from sklearn.svm import SVC\n",
        "svc_model = SVC()\n",
        "svc_model.fit(X_train, y_train)"
      ]
    },
    {
      "cell_type": "code",
      "execution_count": null,
      "metadata": {
        "execution": {
          "iopub.execute_input": "2023-03-23T10:38:54.658347Z",
          "iopub.status.busy": "2023-03-23T10:38:54.657713Z",
          "iopub.status.idle": "2023-03-23T10:38:54.673998Z",
          "shell.execute_reply": "2023-03-23T10:38:54.672371Z",
          "shell.execute_reply.started": "2023-03-23T10:38:54.658281Z"
        },
        "id": "ZuPUqFQRd9sB",
        "trusted": true
      },
      "outputs": [],
      "source": [
        "#Predicting result using testing data\n",
        "y_svc_pred= svc_model.predict(X_test)\n",
        "y_svc_pred"
      ]
    },
    {
      "cell_type": "code",
      "execution_count": null,
      "metadata": {
        "execution": {
          "iopub.execute_input": "2023-03-23T10:38:54.678969Z",
          "iopub.status.busy": "2023-03-23T10:38:54.678447Z",
          "iopub.status.idle": "2023-03-23T10:38:54.694174Z",
          "shell.execute_reply": "2023-03-23T10:38:54.692697Z",
          "shell.execute_reply.started": "2023-03-23T10:38:54.678921Z"
        },
        "id": "-jAHHvm-d9sC",
        "trusted": true
      },
      "outputs": [],
      "source": [
        "#Model accuracy\n",
        "svc_cr=classification_report(y_test, y_svc_pred)\n",
        "print(svc_cr)"
      ]
    },
    {
      "cell_type": "markdown",
      "metadata": {
        "id": "yf02x-2Ad9sC"
      },
      "source": [
        "**This model is 98% accurate.**"
      ]
    },
    {
      "cell_type": "markdown",
      "metadata": {
        "id": "T7SEupvud9sC"
      },
      "source": [
        "# **Random Forest**"
      ]
    },
    {
      "cell_type": "code",
      "execution_count": null,
      "metadata": {
        "execution": {
          "iopub.execute_input": "2023-03-23T10:38:54.697767Z",
          "iopub.status.busy": "2023-03-23T10:38:54.696113Z",
          "iopub.status.idle": "2023-03-23T10:38:54.871519Z",
          "shell.execute_reply": "2023-03-23T10:38:54.869838Z",
          "shell.execute_reply.started": "2023-03-23T10:38:54.697705Z"
        },
        "id": "erC8MZLRd9sC",
        "trusted": true
      },
      "outputs": [],
      "source": [
        "#Training\n",
        "from sklearn.ensemble import RandomForestClassifier\n",
        "rf_model = RandomForestClassifier()\n",
        "rf_model.fit(X_train, y_train)"
      ]
    },
    {
      "cell_type": "code",
      "execution_count": null,
      "metadata": {
        "execution": {
          "iopub.execute_input": "2023-03-23T10:38:54.873728Z",
          "iopub.status.busy": "2023-03-23T10:38:54.873182Z",
          "iopub.status.idle": "2023-03-23T10:38:54.905178Z",
          "shell.execute_reply": "2023-03-23T10:38:54.903686Z",
          "shell.execute_reply.started": "2023-03-23T10:38:54.873667Z"
        },
        "id": "PtTCsLY4d9sC",
        "trusted": true
      },
      "outputs": [],
      "source": [
        "#Predicting result using testing data\n",
        "y_rf_pred= rf_model.predict(X_test)\n",
        "y_rf_pred"
      ]
    },
    {
      "cell_type": "code",
      "execution_count": null,
      "metadata": {
        "execution": {
          "iopub.execute_input": "2023-03-23T10:38:54.907706Z",
          "iopub.status.busy": "2023-03-23T10:38:54.907096Z",
          "iopub.status.idle": "2023-03-23T10:38:54.92173Z",
          "shell.execute_reply": "2023-03-23T10:38:54.920038Z",
          "shell.execute_reply.started": "2023-03-23T10:38:54.907644Z"
        },
        "id": "xGhilBlSd9sC",
        "trusted": true
      },
      "outputs": [],
      "source": [
        "#Model accuracy\n",
        "rf_cr=classification_report(y_test, y_rf_pred)\n",
        "print(rf_cr)"
      ]
    },
    {
      "cell_type": "markdown",
      "metadata": {
        "id": "v8hIlFKPd9sD"
      },
      "source": [
        "**This model is also 98% accurate.**"
      ]
    },
    {
      "cell_type": "markdown",
      "metadata": {
        "id": "8ufHmtc8d9sD"
      },
      "source": [
        "# **XGBoost**"
      ]
    },
    {
      "cell_type": "code",
      "execution_count": null,
      "metadata": {
        "execution": {
          "iopub.execute_input": "2023-03-23T10:38:54.926009Z",
          "iopub.status.busy": "2023-03-23T10:38:54.923861Z",
          "iopub.status.idle": "2023-03-23T10:38:55.230181Z",
          "shell.execute_reply": "2023-03-23T10:38:55.228721Z",
          "shell.execute_reply.started": "2023-03-23T10:38:54.925931Z"
        },
        "id": "aDxVI1FYd9sD",
        "trusted": true
      },
      "outputs": [],
      "source": [
        "from xgboost import XGBClassifier\n",
        "xgb_model = XGBClassifier()\n",
        "xgb_model.fit(X_train, y_train)"
      ]
    },
    {
      "cell_type": "code",
      "execution_count": null,
      "metadata": {
        "execution": {
          "iopub.execute_input": "2023-03-23T10:38:55.233078Z",
          "iopub.status.busy": "2023-03-23T10:38:55.232204Z",
          "iopub.status.idle": "2023-03-23T10:38:55.250336Z",
          "shell.execute_reply": "2023-03-23T10:38:55.248717Z",
          "shell.execute_reply.started": "2023-03-23T10:38:55.233019Z"
        },
        "id": "Hkg1BTvdd9sD",
        "trusted": true
      },
      "outputs": [],
      "source": [
        "#Predicting result using testing data\n",
        "y_xgb_pred= xgb_model.predict(X_test)\n",
        "y_xgb_pred"
      ]
    },
    {
      "cell_type": "code",
      "execution_count": null,
      "metadata": {
        "execution": {
          "iopub.execute_input": "2023-03-23T10:38:55.252913Z",
          "iopub.status.busy": "2023-03-23T10:38:55.252154Z",
          "iopub.status.idle": "2023-03-23T10:38:55.269909Z",
          "shell.execute_reply": "2023-03-23T10:38:55.268811Z",
          "shell.execute_reply.started": "2023-03-23T10:38:55.252865Z"
        },
        "id": "VSEjptVEd9sD",
        "trusted": true
      },
      "outputs": [],
      "source": [
        "#Model accuracy\n",
        "xgb_cr=classification_report(y_test, y_xgb_pred)\n",
        "print(xgb_cr)"
      ]
    },
    {
      "cell_type": "markdown",
      "metadata": {
        "id": "BWAFmgUud9sD"
      },
      "source": [
        "**This model is also 97% accurate.**"
      ]
    },
    {
      "cell_type": "markdown",
      "metadata": {
        "execution": {
          "iopub.execute_input": "2023-02-24T06:18:38.849499Z",
          "iopub.status.busy": "2023-02-24T06:18:38.849101Z",
          "iopub.status.idle": "2023-02-24T06:18:38.854549Z",
          "shell.execute_reply": "2023-02-24T06:18:38.853244Z",
          "shell.execute_reply.started": "2023-02-24T06:18:38.849467Z"
        },
        "id": "gmTVa4Yqd9sE"
      },
      "source": [
        "# **Multi-layer Perceptron classifier**"
      ]
    },
    {
      "cell_type": "code",
      "execution_count": null,
      "metadata": {
        "execution": {
          "iopub.execute_input": "2023-03-23T10:38:55.272695Z",
          "iopub.status.busy": "2023-03-23T10:38:55.27179Z",
          "iopub.status.idle": "2023-03-23T10:38:56.100179Z",
          "shell.execute_reply": "2023-03-23T10:38:56.09871Z",
          "shell.execute_reply.started": "2023-03-23T10:38:55.272625Z"
        },
        "id": "kMj-Xadrd9sE",
        "trusted": true
      },
      "outputs": [],
      "source": [
        "#Training a neural network model\n",
        "from sklearn.neural_network import MLPClassifier\n",
        "mlp_model = MLPClassifier()\n",
        "mlp_model.fit(X_train, y_train)"
      ]
    },
    {
      "cell_type": "code",
      "execution_count": null,
      "metadata": {
        "execution": {
          "iopub.execute_input": "2023-03-23T10:38:56.103088Z",
          "iopub.status.busy": "2023-03-23T10:38:56.102267Z",
          "iopub.status.idle": "2023-03-23T10:38:56.118922Z",
          "shell.execute_reply": "2023-03-23T10:38:56.116983Z",
          "shell.execute_reply.started": "2023-03-23T10:38:56.103025Z"
        },
        "id": "sLsOA-GBd9sE",
        "trusted": true
      },
      "outputs": [],
      "source": [
        "#Predicting result using testing data\n",
        "y_mlp_pred= mlp_model.predict(X_test)\n",
        "y_mlp_pred"
      ]
    },
    {
      "cell_type": "code",
      "execution_count": null,
      "metadata": {
        "execution": {
          "iopub.execute_input": "2023-03-23T10:38:56.12223Z",
          "iopub.status.busy": "2023-03-23T10:38:56.121358Z",
          "iopub.status.idle": "2023-03-23T10:38:56.142214Z",
          "shell.execute_reply": "2023-03-23T10:38:56.1407Z",
          "shell.execute_reply.started": "2023-03-23T10:38:56.122168Z"
        },
        "id": "tfzZfWdMd9sE",
        "trusted": true
      },
      "outputs": [],
      "source": [
        "#Model accuracy\n",
        "mlp_cr=classification_report(y_test, y_mlp_pred)\n",
        "print(mlp_cr)"
      ]
    },
    {
      "cell_type": "markdown",
      "metadata": {
        "id": "TYm_90qAd9sE"
      },
      "source": [
        "**This model is also 98% accurate.**"
      ]
    },
    {
      "cell_type": "markdown",
      "metadata": {
        "execution": {
          "iopub.execute_input": "2023-02-24T06:21:03.647586Z",
          "iopub.status.busy": "2023-02-24T06:21:03.647154Z",
          "iopub.status.idle": "2023-02-24T06:21:03.653955Z",
          "shell.execute_reply": "2023-02-24T06:21:03.652238Z",
          "shell.execute_reply.started": "2023-02-24T06:21:03.647552Z"
        },
        "id": "leiAlitjd9sE"
      },
      "source": [
        "# **Gradient Boosting**"
      ]
    },
    {
      "cell_type": "code",
      "execution_count": null,
      "metadata": {
        "execution": {
          "iopub.execute_input": "2023-03-23T10:38:56.145312Z",
          "iopub.status.busy": "2023-03-23T10:38:56.144452Z",
          "iopub.status.idle": "2023-03-23T10:38:56.275787Z",
          "shell.execute_reply": "2023-03-23T10:38:56.274115Z",
          "shell.execute_reply.started": "2023-03-23T10:38:56.145255Z"
        },
        "id": "wHWpOZI4d9sF",
        "trusted": true
      },
      "outputs": [],
      "source": [
        "#Training\n",
        "from sklearn.ensemble import GradientBoostingClassifier\n",
        "gb_model = GradientBoostingClassifier()\n",
        "gb_model.fit(X_train, y_train)"
      ]
    },
    {
      "cell_type": "code",
      "execution_count": null,
      "metadata": {
        "execution": {
          "iopub.execute_input": "2023-03-23T10:38:56.277918Z",
          "iopub.status.busy": "2023-03-23T10:38:56.277471Z",
          "iopub.status.idle": "2023-03-23T10:38:56.289213Z",
          "shell.execute_reply": "2023-03-23T10:38:56.288198Z",
          "shell.execute_reply.started": "2023-03-23T10:38:56.277875Z"
        },
        "id": "J_0MRr0Id9sF",
        "trusted": true
      },
      "outputs": [],
      "source": [
        "#Predicting result using testing data\n",
        "y_gb_pred= gb_model.predict(X_test)\n",
        "y_gb_pred"
      ]
    },
    {
      "cell_type": "code",
      "execution_count": null,
      "metadata": {
        "execution": {
          "iopub.execute_input": "2023-03-23T10:38:56.291202Z",
          "iopub.status.busy": "2023-03-23T10:38:56.290617Z",
          "iopub.status.idle": "2023-03-23T10:38:56.308122Z",
          "shell.execute_reply": "2023-03-23T10:38:56.306906Z",
          "shell.execute_reply.started": "2023-03-23T10:38:56.291164Z"
        },
        "id": "acmCMXEFd9sF",
        "trusted": true
      },
      "outputs": [],
      "source": [
        "#Model accuracy\n",
        "gb_cr=classification_report(y_test, y_gb_pred)\n",
        "print(gb_cr)"
      ]
    },
    {
      "cell_type": "markdown",
      "metadata": {
        "id": "Iim4MO3Bd9sF"
      },
      "source": [
        "**This model is also 98% accurate.**"
      ]
    },
    {
      "cell_type": "markdown",
      "metadata": {
        "id": "g7jOsFRrd9sF"
      },
      "source": [
        "From the above calculated accuracies, it is clear that the SVC, Random Forest, Multi-layer Perceptron and Gradient Boost models performed atmost level while the worst performed one is Multinomial Naive Bayes.\n",
        "However, I'm interested in a more efficient way of evaluating these models. Let's go for the Cross Validation methods using both K-Fold and Stratified K-Fold"
      ]
    },
    {
      "cell_type": "markdown",
      "metadata": {
        "id": "SKacYeZHd9sF"
      },
      "source": [
        "# **Cross Validation**"
      ]
    },
    {
      "cell_type": "markdown",
      "metadata": {
        "id": "-3wYTOXFd9sG"
      },
      "source": [
        "K-Fold cross validation is a popular technique used in machine learning for model evaluation and selection. It involves dividing a dataset into K subsets of equal size, called folds. The algorithm then trains and evaluates the model K times, each time using a different fold as the validation set and the remaining K-1 folds as the training set.\n",
        "\n",
        "During each iteration of K-Fold cross validation, the model is trained on K-1 folds and evaluated on the remaining fold. The performance metrics are then averaged over all K iterations to obtain an estimate of the model's overall performance.\n",
        "\n",
        "K-Fold cross validation is a robust method for model evaluation because it uses all the available data for training and testing. It also helps to reduce the risk of overfitting and provides a more accurate estimate of the model's performance than using a single training-test split.\n",
        "\n",
        "Typically, values of K between 5 and 10 are used for K-Fold cross validation, but the optimal value of K may vary depending on the size and complexity of the dataset, as well as the type of model being evaluated.\n",
        "\n",
        "Here are some general guidelines that can help you choose an appropriate value of K:\n",
        "\n",
        "1. For small datasets, it is recommended to use a larger value of K, such as 10. This is because the larger value of K allows for more robust estimates of model performance, given the limited amount of data.\n",
        "\n",
        "2. For larger datasets, a smaller value of K can be used, such as 5. This is because a larger value of K will result in K smaller training sets, which may not be representative of the full dataset. Using a smaller value of K ensures that each fold has a sufficient amount of data for both training and testing.\n",
        "\n",
        "3. For models that are computationally expensive or time-consuming to train, a smaller value of K is preferred to reduce the overall training time.\n",
        "\n",
        "4. It's also essential to note that the choice of K should not be based solely on the accuracy of the model. Other metrics, such as precision, recall, and F1 score, should also be considered, as they can provide valuable insights into the performance of the model."
      ]
    },
    {
      "cell_type": "code",
      "execution_count": null,
      "metadata": {
        "execution": {
          "iopub.execute_input": "2023-03-23T10:38:56.310275Z",
          "iopub.status.busy": "2023-03-23T10:38:56.309686Z",
          "iopub.status.idle": "2023-03-23T10:39:13.267312Z",
          "shell.execute_reply": "2023-03-23T10:39:13.265861Z",
          "shell.execute_reply.started": "2023-03-23T10:38:56.310237Z"
        },
        "id": "gb_eOOXPd9sG",
        "trusted": true
      },
      "outputs": [],
      "source": [
        "# K-Fold Cross Validation\n",
        "\n",
        "from sklearn.model_selection import KFold\n",
        "from sklearn.model_selection import cross_val_score\n",
        "\n",
        "k = 10\n",
        "kf = KFold(n_splits=k, shuffle=True, random_state=42)\n",
        "\n",
        "\n",
        "# Logistic regerssion model\n",
        "lr_model_scores = cross_val_score(lr_model,X, y, cv=kf)\n",
        "\n",
        "# Decision tree model\n",
        "dt_model_scores = cross_val_score(dt_model,X, y, cv=kf)\n",
        "\n",
        "# KNN model\n",
        "knn_model_scores = cross_val_score(knn_model,X, y, cv=kf)\n",
        "\n",
        "# Gaussian naive bayes model\n",
        "gnb_model_scores = cross_val_score(gnb_model,X, y, cv=kf)\n",
        "\n",
        "# Multinomial naive bayes model\n",
        "mnb_model_scores = cross_val_score(mnb_model,X, y, cv=kf)\n",
        "\n",
        "# Support Vector Classifier model\n",
        "svc_model_scores = cross_val_score(svc_model,X, y, cv=kf)\n",
        "\n",
        "# Random forest model\n",
        "rf_model_scores = cross_val_score(rf_model,X, y, cv=kf)\n",
        "\n",
        "# XGBoost model\n",
        "xgb_model_scores = cross_val_score(xgb_model,X, y, cv=kf)\n",
        "\n",
        "# Multi-layer perceptron model\n",
        "mlp_model_scores = cross_val_score(mlp_model,X, y, cv=kf)\n",
        "\n",
        "# Gradient boost model\n",
        "gb_model_scores = cross_val_score(gb_model,X, y, cv=kf)\n",
        "\n",
        "\n",
        "print(\"Logistic regression models' average accuracy:\", np.mean(lr_model_scores))\n",
        "print(\"Decision tree models' average accuracy:\", np.mean(dt_model_scores))\n",
        "print(\"KNN models' average accuracy:\", np.mean(knn_model_scores))\n",
        "print(\"Gaussian naive bayes models' average accuracy:\", np.mean(gnb_model_scores))\n",
        "print(\"Multinomial naive bayes models' average accuracy:\", np.mean(mnb_model_scores))\n",
        "print(\"Support Vector Classifier models' average accuracy:\", np.mean(svc_model_scores))\n",
        "print(\"Random forest models' average accuracy:\", np.mean(rf_model_scores))\n",
        "print(\"XGBoost models' average accuracy:\", np.mean(xgb_model_scores))\n",
        "print(\"Multi-layer perceptron models' average accuracy:\", np.mean(mlp_model_scores))\n",
        "print(\"Gradient boost models' average accuracy:\", np.mean(gb_model_scores))"
      ]
    },
    {
      "cell_type": "markdown",
      "metadata": {
        "id": "UIY1RaeWd9sG"
      },
      "source": [
        "**So the K-Fold cross validation is showing Gradient Boost model gives the most accuracy of 95.6%, and Decision Tree model also gives almost same accuracy, while Multinomial Naive Bayes model gives the least accuarcy of 74.2%.**"
      ]
    },
    {
      "cell_type": "markdown",
      "metadata": {
        "id": "GJK7S2Ogd9sG"
      },
      "source": [
        "Stratified K-Fold cross-validation is a modification of the standard K-Fold cross-validation technique that is commonly used in machine learning when working with imbalanced datasets. The goal of Stratified K-Fold cross-validation is to ensure that each fold is representative of the overall dataset in terms of the class distribution.\n",
        "\n",
        "In standard K-Fold cross-validation, the data is split into K folds, and each fold is used as the validation set in turn. However, if the dataset has an imbalanced class distribution, this can lead to some of the folds having significantly fewer samples from the minority class, which can result in biased performance estimates.\n",
        "\n",
        "To address this issue, Stratified K-Fold cross-validation ensures that each fold has a similar proportion of samples from each class. It works by first dividing the dataset into K folds, as in standard K-Fold cross-validation. Then, for each fold, the algorithm ensures that the proportion of samples from each class is roughly the same as the proportion in the full dataset. This ensures that the model is evaluated on a representative sample of the data, regardless of the class distribution.\n",
        "\n",
        "Stratified K-Fold cross-validation is a powerful tool for evaluating the performance of machine learning models on imbalanced datasets. It can help to ensure that the model's performance is accurately estimated and that the model is robust to class imbalances in the dataset."
      ]
    },
    {
      "cell_type": "code",
      "execution_count": null,
      "metadata": {
        "execution": {
          "iopub.execute_input": "2023-03-23T10:39:13.26995Z",
          "iopub.status.busy": "2023-03-23T10:39:13.269304Z",
          "iopub.status.idle": "2023-03-23T10:39:31.507033Z",
          "shell.execute_reply": "2023-03-23T10:39:31.505291Z",
          "shell.execute_reply.started": "2023-03-23T10:39:13.269893Z"
        },
        "id": "PFOdeQLyd9sG",
        "trusted": true
      },
      "outputs": [],
      "source": [
        "# K-Fold Cross Validation\n",
        "\n",
        "from sklearn.model_selection import StratifiedKFold\n",
        "from sklearn.model_selection import cross_val_score\n",
        "\n",
        "k = 10\n",
        "kf = StratifiedKFold(n_splits=k)\n",
        "\n",
        "\n",
        "# Logistic regerssion model\n",
        "lr_model_scores = cross_val_score(lr_model,X, y, cv=kf)\n",
        "\n",
        "# Decision tree model\n",
        "dt_model_scores = cross_val_score(dt_model,X, y, cv=kf)\n",
        "\n",
        "# KNN model\n",
        "knn_model_scores = cross_val_score(knn_model,X, y, cv=kf)\n",
        "\n",
        "# Gaussian naive bayes model\n",
        "gnb_model_scores = cross_val_score(gnb_model,X, y, cv=kf)\n",
        "\n",
        "# Multinomial naive bayes model\n",
        "mnb_model_scores = cross_val_score(mnb_model,X, y, cv=kf)\n",
        "\n",
        "# Support Vector Classifier model\n",
        "svc_model_scores = cross_val_score(svc_model,X, y, cv=kf)\n",
        "\n",
        "# Random forest model\n",
        "rf_model_scores = cross_val_score(rf_model,X, y, cv=kf)\n",
        "\n",
        "# XGBoost model\n",
        "xgb_model_scores = cross_val_score(xgb_model,X, y, cv=kf)\n",
        "\n",
        "# Multi-layer perceptron model\n",
        "mlp_model_scores = cross_val_score(mlp_model,X, y, cv=kf)\n",
        "\n",
        "# Gradient boost model\n",
        "gb_model_scores = cross_val_score(gb_model,X, y, cv=kf)\n",
        "\n",
        "\n",
        "print(\"Logistic regression models' average accuracy:\", np.mean(lr_model_scores))\n",
        "print(\"Decision tree models' average accuracy:\", np.mean(dt_model_scores))\n",
        "print(\"KNN models' average accuracy:\", np.mean(knn_model_scores))\n",
        "print(\"Gaussian naive bayes models' average accuracy:\", np.mean(gnb_model_scores))\n",
        "print(\"Multinomial naive bayes models' average accuracy:\", np.mean(mnb_model_scores))\n",
        "print(\"Support Vector Classifier models' average accuracy:\", np.mean(svc_model_scores))\n",
        "print(\"Random forest models' average accuracy:\", np.mean(rf_model_scores))\n",
        "print(\"XGBoost models' average accuracy:\", np.mean(xgb_model_scores))\n",
        "print(\"Multi-layer perceptron models' average accuracy:\", np.mean(mlp_model_scores))\n",
        "print(\"Gradient boost models' average accuracy:\", np.mean(gb_model_scores))"
      ]
    },
    {
      "cell_type": "markdown",
      "metadata": {
        "id": "gFoM0gynd9sH"
      },
      "source": [
        "**So the Stratified K-Fold cross validation is showing Random Forest model gives the most accuracy of 94.6%, and also other models like Gradient Boost, Support Vector Classifier, XGBoost gives almost same accuracies, while Multinomial Naive Bayes model gives the least accuarcy of 75.7%.**"
      ]
    }
  ],
  "metadata": {
    "colab": {
      "name": "Lung Cancer Prediction",
      "provenance": []
    },
    "kaggle": {
      "accelerator": "none",
      "dataSources": [
        {
          "datasetId": 2206522,
          "sourceId": 3947767,
          "sourceType": "datasetVersion"
        }
      ],
      "isGpuEnabled": false,
      "isInternetEnabled": true,
      "language": "python",
      "sourceType": "notebook"
    },
    "kernelspec": {
      "display_name": "Python 3",
      "language": "python",
      "name": "python3"
    },
    "language_info": {
      "codemirror_mode": {
        "name": "ipython",
        "version": 3
      },
      "file_extension": ".py",
      "mimetype": "text/x-python",
      "name": "python",
      "nbconvert_exporter": "python",
      "pygments_lexer": "ipython3",
      "version": "3.6.4"
    }
  },
  "nbformat": 4,
  "nbformat_minor": 0
}
